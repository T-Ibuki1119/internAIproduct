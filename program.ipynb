{
 "cells": [
  {
   "cell_type": "code",
   "execution_count": 4,
   "metadata": {
    "colab": {
     "base_uri": "https://localhost:8080/"
    },
    "executionInfo": {
     "elapsed": 1209,
     "status": "ok",
     "timestamp": 1661480094791,
     "user": {
      "displayName": "山下穂乃花",
      "userId": "10272557550954922568"
     },
     "user_tz": -540
    },
    "id": "mTJFVAe2DtYY",
    "outputId": "e0a74b50-dca4-4199-cf0d-25b6d95d76f9"
   },
   "outputs": [
    {
     "name": "stdout",
     "output_type": "stream",
     "text": [
      "/content/drive/MyDrive/intern\n"
     ]
    }
   ],
   "source": [
    "%cd '/content/drive/MyDrive/intern'"
   ]
  },
  {
   "cell_type": "code",
   "execution_count": 3,
   "metadata": {
    "colab": {
     "base_uri": "https://localhost:8080/"
    },
    "executionInfo": {
     "elapsed": 31149,
     "status": "ok",
     "timestamp": 1661480089052,
     "user": {
      "displayName": "山下穂乃花",
      "userId": "10272557550954922568"
     },
     "user_tz": -540
    },
    "id": "5SRunyw2O6GG",
    "outputId": "f8f6cd36-5560-4384-b543-6efb5465697b"
   },
   "outputs": [
    {
     "name": "stdout",
     "output_type": "stream",
     "text": [
      "Mounted at /content/drive\n"
     ]
    }
   ],
   "source": [
    "from google.colab import drive\n",
    "drive.mount('/content/drive')"
   ]
  },
  {
   "cell_type": "code",
   "execution_count": 1,
   "metadata": {
    "executionInfo": {
     "elapsed": 440,
     "status": "ok",
     "timestamp": 1661480482435,
     "user": {
      "displayName": "山下穂乃花",
      "userId": "10272557550954922568"
     },
     "user_tz": -540
    },
    "id": "R-Ld-OPSD-rE"
   },
   "outputs": [],
   "source": [
    "import numpy as np\n",
    "import pandas as pd\n",
    "%matplotlib inline\n",
    "import matplotlib.pyplot as plt\n",
    "from sklearn import preprocessing\n",
    "from sklearn.preprocessing import LabelEncoder,MinMaxScaler\n",
    "from tensorflow.keras.initializers import TruncatedNormal"
   ]
  },
  {
   "cell_type": "code",
   "execution_count": 44,
   "metadata": {
    "executionInfo": {
     "elapsed": 1669,
     "status": "ok",
     "timestamp": 1661480487379,
     "user": {
      "displayName": "山下穂乃花",
      "userId": "10272557550954922568"
     },
     "user_tz": -540
    },
    "id": "ltDtXVmnGs1B"
   },
   "outputs": [],
   "source": [
    "#データセットの読み込み\n",
    "Data=pd.read_csv('SpotifyFeatures.csv')"
   ]
  },
  {
   "cell_type": "code",
   "execution_count": 45,
   "metadata": {
    "colab": {
     "base_uri": "https://localhost:8080/",
     "height": 461
    },
    "executionInfo": {
     "elapsed": 8,
     "status": "ok",
     "timestamp": 1661480487380,
     "user": {
      "displayName": "山下穂乃花",
      "userId": "10272557550954922568"
     },
     "user_tz": -540
    },
    "id": "zDanr6bYHAGA",
    "outputId": "a9af9c36-e762-4c68-a67e-5119ce85df16",
    "scrolled": true
   },
   "outputs": [
    {
     "data": {
      "text/html": [
       "<div>\n",
       "<style scoped>\n",
       "    .dataframe tbody tr th:only-of-type {\n",
       "        vertical-align: middle;\n",
       "    }\n",
       "\n",
       "    .dataframe tbody tr th {\n",
       "        vertical-align: top;\n",
       "    }\n",
       "\n",
       "    .dataframe thead th {\n",
       "        text-align: right;\n",
       "    }\n",
       "</style>\n",
       "<table border=\"1\" class=\"dataframe\">\n",
       "  <thead>\n",
       "    <tr style=\"text-align: right;\">\n",
       "      <th></th>\n",
       "      <th>genre</th>\n",
       "      <th>artist_name</th>\n",
       "      <th>track_name</th>\n",
       "      <th>track_id</th>\n",
       "      <th>popularity</th>\n",
       "      <th>acousticness</th>\n",
       "      <th>danceability</th>\n",
       "      <th>duration_ms</th>\n",
       "      <th>energy</th>\n",
       "      <th>instrumentalness</th>\n",
       "      <th>key</th>\n",
       "      <th>liveness</th>\n",
       "      <th>loudness</th>\n",
       "      <th>mode</th>\n",
       "      <th>speechiness</th>\n",
       "      <th>tempo</th>\n",
       "      <th>time_signature</th>\n",
       "      <th>valence</th>\n",
       "    </tr>\n",
       "  </thead>\n",
       "  <tbody>\n",
       "    <tr>\n",
       "      <th>0</th>\n",
       "      <td>Movie</td>\n",
       "      <td>Henri Salvador</td>\n",
       "      <td>C'est beau de faire un Show</td>\n",
       "      <td>0BRjO6ga9RKCKjfDqeFgWV</td>\n",
       "      <td>0</td>\n",
       "      <td>0.611</td>\n",
       "      <td>0.389</td>\n",
       "      <td>99373</td>\n",
       "      <td>0.910</td>\n",
       "      <td>0.000</td>\n",
       "      <td>C#</td>\n",
       "      <td>0.3460</td>\n",
       "      <td>-1.828</td>\n",
       "      <td>Major</td>\n",
       "      <td>0.0525</td>\n",
       "      <td>166.969</td>\n",
       "      <td>4/4</td>\n",
       "      <td>0.814</td>\n",
       "    </tr>\n",
       "    <tr>\n",
       "      <th>1</th>\n",
       "      <td>Movie</td>\n",
       "      <td>Martin &amp; les fées</td>\n",
       "      <td>Perdu d'avance (par Gad Elmaleh)</td>\n",
       "      <td>0BjC1NfoEOOusryehmNudP</td>\n",
       "      <td>1</td>\n",
       "      <td>0.246</td>\n",
       "      <td>0.590</td>\n",
       "      <td>137373</td>\n",
       "      <td>0.737</td>\n",
       "      <td>0.000</td>\n",
       "      <td>F#</td>\n",
       "      <td>0.1510</td>\n",
       "      <td>-5.559</td>\n",
       "      <td>Minor</td>\n",
       "      <td>0.0868</td>\n",
       "      <td>174.003</td>\n",
       "      <td>4/4</td>\n",
       "      <td>0.816</td>\n",
       "    </tr>\n",
       "    <tr>\n",
       "      <th>2</th>\n",
       "      <td>Movie</td>\n",
       "      <td>Joseph Williams</td>\n",
       "      <td>Don't Let Me Be Lonely Tonight</td>\n",
       "      <td>0CoSDzoNIKCRs124s9uTVy</td>\n",
       "      <td>3</td>\n",
       "      <td>0.952</td>\n",
       "      <td>0.663</td>\n",
       "      <td>170267</td>\n",
       "      <td>0.131</td>\n",
       "      <td>0.000</td>\n",
       "      <td>C</td>\n",
       "      <td>0.1030</td>\n",
       "      <td>-13.879</td>\n",
       "      <td>Minor</td>\n",
       "      <td>0.0362</td>\n",
       "      <td>99.488</td>\n",
       "      <td>5/4</td>\n",
       "      <td>0.368</td>\n",
       "    </tr>\n",
       "    <tr>\n",
       "      <th>3</th>\n",
       "      <td>Movie</td>\n",
       "      <td>Henri Salvador</td>\n",
       "      <td>Dis-moi Monsieur Gordon Cooper</td>\n",
       "      <td>0Gc6TVm52BwZD07Ki6tIvf</td>\n",
       "      <td>0</td>\n",
       "      <td>0.703</td>\n",
       "      <td>0.240</td>\n",
       "      <td>152427</td>\n",
       "      <td>0.326</td>\n",
       "      <td>0.000</td>\n",
       "      <td>C#</td>\n",
       "      <td>0.0985</td>\n",
       "      <td>-12.178</td>\n",
       "      <td>Major</td>\n",
       "      <td>0.0395</td>\n",
       "      <td>171.758</td>\n",
       "      <td>4/4</td>\n",
       "      <td>0.227</td>\n",
       "    </tr>\n",
       "    <tr>\n",
       "      <th>4</th>\n",
       "      <td>Movie</td>\n",
       "      <td>Fabien Nataf</td>\n",
       "      <td>Ouverture</td>\n",
       "      <td>0IuslXpMROHdEPvSl1fTQK</td>\n",
       "      <td>4</td>\n",
       "      <td>0.950</td>\n",
       "      <td>0.331</td>\n",
       "      <td>82625</td>\n",
       "      <td>0.225</td>\n",
       "      <td>0.123</td>\n",
       "      <td>F</td>\n",
       "      <td>0.2020</td>\n",
       "      <td>-21.150</td>\n",
       "      <td>Major</td>\n",
       "      <td>0.0456</td>\n",
       "      <td>140.576</td>\n",
       "      <td>4/4</td>\n",
       "      <td>0.390</td>\n",
       "    </tr>\n",
       "  </tbody>\n",
       "</table>\n",
       "</div>"
      ],
      "text/plain": [
       "   genre        artist_name                        track_name  \\\n",
       "0  Movie     Henri Salvador       C'est beau de faire un Show   \n",
       "1  Movie  Martin & les fées  Perdu d'avance (par Gad Elmaleh)   \n",
       "2  Movie    Joseph Williams    Don't Let Me Be Lonely Tonight   \n",
       "3  Movie     Henri Salvador    Dis-moi Monsieur Gordon Cooper   \n",
       "4  Movie       Fabien Nataf                         Ouverture   \n",
       "\n",
       "                 track_id  popularity  acousticness  danceability  \\\n",
       "0  0BRjO6ga9RKCKjfDqeFgWV           0         0.611         0.389   \n",
       "1  0BjC1NfoEOOusryehmNudP           1         0.246         0.590   \n",
       "2  0CoSDzoNIKCRs124s9uTVy           3         0.952         0.663   \n",
       "3  0Gc6TVm52BwZD07Ki6tIvf           0         0.703         0.240   \n",
       "4  0IuslXpMROHdEPvSl1fTQK           4         0.950         0.331   \n",
       "\n",
       "   duration_ms  energy  instrumentalness key  liveness  loudness   mode  \\\n",
       "0        99373   0.910             0.000  C#    0.3460    -1.828  Major   \n",
       "1       137373   0.737             0.000  F#    0.1510    -5.559  Minor   \n",
       "2       170267   0.131             0.000   C    0.1030   -13.879  Minor   \n",
       "3       152427   0.326             0.000  C#    0.0985   -12.178  Major   \n",
       "4        82625   0.225             0.123   F    0.2020   -21.150  Major   \n",
       "\n",
       "   speechiness    tempo time_signature  valence  \n",
       "0       0.0525  166.969            4/4    0.814  \n",
       "1       0.0868  174.003            4/4    0.816  \n",
       "2       0.0362   99.488            5/4    0.368  \n",
       "3       0.0395  171.758            4/4    0.227  \n",
       "4       0.0456  140.576            4/4    0.390  "
      ]
     },
     "execution_count": 45,
     "metadata": {},
     "output_type": "execute_result"
    }
   ],
   "source": [
    "Data.head()"
   ]
  },
  {
   "cell_type": "code",
   "execution_count": 46,
   "metadata": {
    "colab": {
     "base_uri": "https://localhost:8080/"
    },
    "executionInfo": {
     "elapsed": 3,
     "status": "ok",
     "timestamp": 1661480491214,
     "user": {
      "displayName": "山下穂乃花",
      "userId": "10272557550954922568"
     },
     "user_tz": -540
    },
    "id": "LwIDdIgBfZ9O",
    "outputId": "4ce85f1b-56cc-4186-faa9-0e3f0a393217"
   },
   "outputs": [
    {
     "data": {
      "text/plain": [
       "genre                object\n",
       "artist_name          object\n",
       "track_name           object\n",
       "track_id             object\n",
       "popularity            int64\n",
       "acousticness        float64\n",
       "danceability        float64\n",
       "duration_ms           int64\n",
       "energy              float64\n",
       "instrumentalness    float64\n",
       "key                  object\n",
       "liveness            float64\n",
       "loudness            float64\n",
       "mode                 object\n",
       "speechiness         float64\n",
       "tempo               float64\n",
       "time_signature       object\n",
       "valence             float64\n",
       "dtype: object"
      ]
     },
     "execution_count": 46,
     "metadata": {},
     "output_type": "execute_result"
    }
   ],
   "source": [
    "Data.dtypes"
   ]
  },
  {
   "cell_type": "markdown",
   "metadata": {
    "id": "kj0g8DHvfZ9P"
   },
   "source": [
    "# ジャンルの分類\n",
    "出力カテゴリであるジャンルの分類を行う"
   ]
  },
  {
   "cell_type": "markdown",
   "metadata": {
    "executionInfo": {
     "elapsed": 440,
     "status": "ok",
     "timestamp": 1661308767393,
     "user": {
      "displayName": "山下穂乃花",
      "userId": "10272557550954922568"
     },
     "user_tz": -540
    },
    "id": "izNzHzJ4Uv53"
   },
   "source": [
    "## ジャンルの取り除き\n",
    "'Movie', 'Comedy', 'Children’s Music', 'Electronic', 'Soundtrack', 'A Capella'のジャンルの取り除きを行った。\n",
    "'Movie', 'Comedy'は今回の趣旨とは外れるため、その他の項目は後で示す大きなジャンルへの分類が難しかったため取り除いた。"
   ]
  },
  {
   "cell_type": "code",
   "execution_count": 47,
   "metadata": {
    "executionInfo": {
     "elapsed": 2,
     "status": "ok",
     "timestamp": 1661480494092,
     "user": {
      "displayName": "山下穂乃花",
      "userId": "10272557550954922568"
     },
     "user_tz": -540
    },
    "id": "LXRUpnNCMif9"
   },
   "outputs": [],
   "source": [
    "Data=Data[Data[\"genre\"] != 'Movie']#動画なので今回の目的とは外れる\n",
    "Data=Data[Data['genre']!='Comedy']#お笑いの音声なので今回の目的とは外れる\n",
    "\n",
    "#以下分類が難しかったもの\n",
    "Data=Data[Data[\"genre\"]!=\"Children's Music\"]\n",
    "Data=Data[Data['genre']!='Children’s Music']\n",
    "Data=Data[Data['genre']!='Electronic']\n",
    "Data=Data[Data['genre']!='Soundtrack']\n",
    "Data=Data[Data['genre']!='A Capella']"
   ]
  },
  {
   "cell_type": "code",
   "execution_count": 48,
   "metadata": {
    "colab": {
     "base_uri": "https://localhost:8080/"
    },
    "executionInfo": {
     "elapsed": 3,
     "status": "ok",
     "timestamp": 1661480495475,
     "user": {
      "displayName": "山下穂乃花",
      "userId": "10272557550954922568"
     },
     "user_tz": -540
    },
    "id": "ncvQ0DbDfZ9U",
    "outputId": "6daa98c8-f04c-4ae2-ba82-8c39df01ee0f"
   },
   "outputs": [
    {
     "data": {
      "text/plain": [
       "array(['R&B', 'Alternative', 'Country', 'Dance', 'Anime', 'Folk', 'Blues',\n",
       "       'Opera', 'Hip-Hop', 'Rap', 'Indie', 'Classical', 'Pop', 'Reggae',\n",
       "       'Reggaeton', 'Jazz', 'Rock', 'Ska', 'Soul', 'World'], dtype=object)"
      ]
     },
     "execution_count": 48,
     "metadata": {},
     "output_type": "execute_result"
    }
   ],
   "source": [
    "#取り除いた結果\n",
    "Data['genre'].unique()"
   ]
  },
  {
   "cell_type": "markdown",
   "metadata": {
    "id": "AuyOUXZKfZ9V"
   },
   "source": [
    "## ジャンルのまとめ\n",
    "6つのジャンルにまとめる"
   ]
  },
  {
   "cell_type": "code",
   "execution_count": 49,
   "metadata": {
    "colab": {
     "base_uri": "https://localhost:8080/"
    },
    "executionInfo": {
     "elapsed": 3,
     "status": "ok",
     "timestamp": 1661480495948,
     "user": {
      "displayName": "山下穂乃花",
      "userId": "10272557550954922568"
     },
     "user_tz": -540
    },
    "id": "nUNm3M57fZ9W",
    "outputId": "64cd5668-0664-4556-e299-ca15e13f0ebb"
   },
   "outputs": [
    {
     "name": "stderr",
     "output_type": "stream",
     "text": [
      "C:\\Users\\admin\\AppData\\Local\\Temp\\ipykernel_7956\\3152498058.py:3: SettingWithCopyWarning: \n",
      "A value is trying to be set on a copy of a slice from a DataFrame\n",
      "\n",
      "See the caveats in the documentation: https://pandas.pydata.org/pandas-docs/stable/user_guide/indexing.html#returning-a-view-versus-a-copy\n",
      "  Data['genre'][Data['genre']=='Hip-Hop']='Pop'\n",
      "C:\\Users\\admin\\AppData\\Local\\Temp\\ipykernel_7956\\3152498058.py:4: SettingWithCopyWarning: \n",
      "A value is trying to be set on a copy of a slice from a DataFrame\n",
      "\n",
      "See the caveats in the documentation: https://pandas.pydata.org/pandas-docs/stable/user_guide/indexing.html#returning-a-view-versus-a-copy\n",
      "  Data['genre'][Data['genre']=='Anime']='Pop'\n",
      "C:\\Users\\admin\\AppData\\Local\\Temp\\ipykernel_7956\\3152498058.py:5: SettingWithCopyWarning: \n",
      "A value is trying to be set on a copy of a slice from a DataFrame\n",
      "\n",
      "See the caveats in the documentation: https://pandas.pydata.org/pandas-docs/stable/user_guide/indexing.html#returning-a-view-versus-a-copy\n",
      "  Data['genre'][Data['genre']=='Dance']='Pop'\n",
      "C:\\Users\\admin\\AppData\\Local\\Temp\\ipykernel_7956\\3152498058.py:6: SettingWithCopyWarning: \n",
      "A value is trying to be set on a copy of a slice from a DataFrame\n",
      "\n",
      "See the caveats in the documentation: https://pandas.pydata.org/pandas-docs/stable/user_guide/indexing.html#returning-a-view-versus-a-copy\n",
      "  Data['genre'][Data['genre']=='R&B']='Pop'\n"
     ]
    }
   ],
   "source": [
    "#ポップス\n",
    "Data['genre'][Data['genre']=='Rap']='Pop'\n",
    "Data['genre'][Data['genre']=='Hip-Hop']='Pop'\n",
    "Data['genre'][Data['genre']=='Anime']='Pop'\n",
    "Data['genre'][Data['genre']=='Dance']='Pop'\n",
    "Data['genre'][Data['genre']=='R&B']='Pop'"
   ]
  },
  {
   "cell_type": "code",
   "execution_count": 50,
   "metadata": {
    "colab": {
     "base_uri": "https://localhost:8080/"
    },
    "executionInfo": {
     "elapsed": 8,
     "status": "ok",
     "timestamp": 1661480497170,
     "user": {
      "displayName": "山下穂乃花",
      "userId": "10272557550954922568"
     },
     "user_tz": -540
    },
    "id": "bTOP5XumfZ9W",
    "outputId": "c14d1ed4-92f4-406c-fd4a-41c0fece12cc"
   },
   "outputs": [
    {
     "name": "stderr",
     "output_type": "stream",
     "text": [
      "C:\\Users\\admin\\AppData\\Local\\Temp\\ipykernel_7956\\3671457315.py:2: SettingWithCopyWarning: \n",
      "A value is trying to be set on a copy of a slice from a DataFrame\n",
      "\n",
      "See the caveats in the documentation: https://pandas.pydata.org/pandas-docs/stable/user_guide/indexing.html#returning-a-view-versus-a-copy\n",
      "  Data['genre'][Data['genre']=='Opera']='Classical'\n"
     ]
    }
   ],
   "source": [
    "#クラシック\n",
    "Data['genre'][Data['genre']=='Opera']='Classical'"
   ]
  },
  {
   "cell_type": "code",
   "execution_count": 51,
   "metadata": {
    "colab": {
     "base_uri": "https://localhost:8080/"
    },
    "executionInfo": {
     "elapsed": 8,
     "status": "ok",
     "timestamp": 1661480497171,
     "user": {
      "displayName": "山下穂乃花",
      "userId": "10272557550954922568"
     },
     "user_tz": -540
    },
    "id": "JSpcIGhxfZ9X",
    "outputId": "9a48f9c7-ecd8-4752-82c2-bfcbd04a660a"
   },
   "outputs": [
    {
     "name": "stderr",
     "output_type": "stream",
     "text": [
      "C:\\Users\\admin\\AppData\\Local\\Temp\\ipykernel_7956\\2112620202.py:2: SettingWithCopyWarning: \n",
      "A value is trying to be set on a copy of a slice from a DataFrame\n",
      "\n",
      "See the caveats in the documentation: https://pandas.pydata.org/pandas-docs/stable/user_guide/indexing.html#returning-a-view-versus-a-copy\n",
      "  Data['genre'][Data['genre']=='Ska']='Jazz'\n"
     ]
    }
   ],
   "source": [
    "#ジャズ\n",
    "Data['genre'][Data['genre']=='Ska']='Jazz'"
   ]
  },
  {
   "cell_type": "code",
   "execution_count": 52,
   "metadata": {
    "colab": {
     "base_uri": "https://localhost:8080/"
    },
    "executionInfo": {
     "elapsed": 1328,
     "status": "ok",
     "timestamp": 1661480499003,
     "user": {
      "displayName": "山下穂乃花",
      "userId": "10272557550954922568"
     },
     "user_tz": -540
    },
    "id": "tesc42plfZ9X",
    "outputId": "c98941f2-a5fb-48a7-8791-c26d81e18d65"
   },
   "outputs": [
    {
     "name": "stderr",
     "output_type": "stream",
     "text": [
      "C:\\Users\\admin\\AppData\\Local\\Temp\\ipykernel_7956\\1125174977.py:2: SettingWithCopyWarning: \n",
      "A value is trying to be set on a copy of a slice from a DataFrame\n",
      "\n",
      "See the caveats in the documentation: https://pandas.pydata.org/pandas-docs/stable/user_guide/indexing.html#returning-a-view-versus-a-copy\n",
      "  Data['genre'][Data['genre']=='R&B']='Rock'\n",
      "C:\\Users\\admin\\AppData\\Local\\Temp\\ipykernel_7956\\1125174977.py:3: SettingWithCopyWarning: \n",
      "A value is trying to be set on a copy of a slice from a DataFrame\n",
      "\n",
      "See the caveats in the documentation: https://pandas.pydata.org/pandas-docs/stable/user_guide/indexing.html#returning-a-view-versus-a-copy\n",
      "  Data['genre'][Data['genre']=='Blues']='Rock'\n",
      "C:\\Users\\admin\\AppData\\Local\\Temp\\ipykernel_7956\\1125174977.py:4: SettingWithCopyWarning: \n",
      "A value is trying to be set on a copy of a slice from a DataFrame\n",
      "\n",
      "See the caveats in the documentation: https://pandas.pydata.org/pandas-docs/stable/user_guide/indexing.html#returning-a-view-versus-a-copy\n",
      "  Data['genre'][Data['genre']=='Alternative']='Rock'\n"
     ]
    }
   ],
   "source": [
    "# ロック\n",
    "Data['genre'][Data['genre']=='R&B']='Rock'\n",
    "Data['genre'][Data['genre']=='Blues']='Rock'\n",
    "Data['genre'][Data['genre']=='Alternative']='Rock'"
   ]
  },
  {
   "cell_type": "code",
   "execution_count": 53,
   "metadata": {
    "colab": {
     "base_uri": "https://localhost:8080/"
    },
    "executionInfo": {
     "elapsed": 5,
     "status": "ok",
     "timestamp": 1661480501912,
     "user": {
      "displayName": "山下穂乃花",
      "userId": "10272557550954922568"
     },
     "user_tz": -540
    },
    "id": "v4cHKDdOfZ9Y",
    "outputId": "d6a1dc1b-3230-4253-e2eb-ef51c53e62d6"
   },
   "outputs": [
    {
     "name": "stderr",
     "output_type": "stream",
     "text": [
      "C:\\Users\\admin\\AppData\\Local\\Temp\\ipykernel_7956\\252769233.py:2: SettingWithCopyWarning: \n",
      "A value is trying to be set on a copy of a slice from a DataFrame\n",
      "\n",
      "See the caveats in the documentation: https://pandas.pydata.org/pandas-docs/stable/user_guide/indexing.html#returning-a-view-versus-a-copy\n",
      "  Data['genre'][Data['genre']=='Indie']='Country'\n",
      "C:\\Users\\admin\\AppData\\Local\\Temp\\ipykernel_7956\\252769233.py:3: SettingWithCopyWarning: \n",
      "A value is trying to be set on a copy of a slice from a DataFrame\n",
      "\n",
      "See the caveats in the documentation: https://pandas.pydata.org/pandas-docs/stable/user_guide/indexing.html#returning-a-view-versus-a-copy\n",
      "  Data['genre'][Data['genre']=='World']='Country'\n",
      "C:\\Users\\admin\\AppData\\Local\\Temp\\ipykernel_7956\\252769233.py:4: SettingWithCopyWarning: \n",
      "A value is trying to be set on a copy of a slice from a DataFrame\n",
      "\n",
      "See the caveats in the documentation: https://pandas.pydata.org/pandas-docs/stable/user_guide/indexing.html#returning-a-view-versus-a-copy\n",
      "  Data['genre'][Data['genre']=='Folk']='Country'\n",
      "C:\\Users\\admin\\AppData\\Local\\Temp\\ipykernel_7956\\252769233.py:5: SettingWithCopyWarning: \n",
      "A value is trying to be set on a copy of a slice from a DataFrame\n",
      "\n",
      "See the caveats in the documentation: https://pandas.pydata.org/pandas-docs/stable/user_guide/indexing.html#returning-a-view-versus-a-copy\n",
      "  Data['genre'][Data['genre']=='Soul']='Country'\n",
      "C:\\Users\\admin\\AppData\\Local\\Temp\\ipykernel_7956\\252769233.py:6: SettingWithCopyWarning: \n",
      "A value is trying to be set on a copy of a slice from a DataFrame\n",
      "\n",
      "See the caveats in the documentation: https://pandas.pydata.org/pandas-docs/stable/user_guide/indexing.html#returning-a-view-versus-a-copy\n",
      "  Data['genre'][Data['genre']=='Reggae']='Country'\n",
      "C:\\Users\\admin\\AppData\\Local\\Temp\\ipykernel_7956\\252769233.py:7: SettingWithCopyWarning: \n",
      "A value is trying to be set on a copy of a slice from a DataFrame\n",
      "\n",
      "See the caveats in the documentation: https://pandas.pydata.org/pandas-docs/stable/user_guide/indexing.html#returning-a-view-versus-a-copy\n",
      "  Data['genre'][Data['genre']=='Reggaeton']='Country'\n"
     ]
    }
   ],
   "source": [
    "#カントリー\n",
    "Data['genre'][Data['genre']=='Indie']='Country'\n",
    "Data['genre'][Data['genre']=='World']='Country'\n",
    "Data['genre'][Data['genre']=='Folk']='Country'\n",
    "Data['genre'][Data['genre']=='Soul']='Country'\n",
    "Data['genre'][Data['genre']=='Reggae']='Country'\n",
    "Data['genre'][Data['genre']=='Reggaeton']='Country'"
   ]
  },
  {
   "cell_type": "code",
   "execution_count": 54,
   "metadata": {
    "colab": {
     "base_uri": "https://localhost:8080/"
    },
    "executionInfo": {
     "elapsed": 7,
     "status": "ok",
     "timestamp": 1661480503340,
     "user": {
      "displayName": "山下穂乃花",
      "userId": "10272557550954922568"
     },
     "user_tz": -540
    },
    "id": "kLkiNKz9fZ9Z",
    "outputId": "04ff79b1-ea45-4268-c34d-9ca55306db54"
   },
   "outputs": [
    {
     "data": {
      "text/plain": [
       "array(['Pop', 'Rock', 'Country', 'Classical', 'Jazz'], dtype=object)"
      ]
     },
     "execution_count": 54,
     "metadata": {},
     "output_type": "execute_result"
    }
   ],
   "source": [
    "Data['genre'].unique()"
   ]
  },
  {
   "cell_type": "code",
   "execution_count": 55,
   "metadata": {
    "colab": {
     "base_uri": "https://localhost:8080/"
    },
    "executionInfo": {
     "elapsed": 5,
     "status": "ok",
     "timestamp": 1661480503340,
     "user": {
      "displayName": "山下穂乃花",
      "userId": "10272557550954922568"
     },
     "user_tz": -540
    },
    "id": "hn9jevjOfZ9Z",
    "outputId": "8723708c-6685-47f5-b2fb-5c3fdf1c770f"
   },
   "outputs": [
    {
     "data": {
      "text/plain": [
       "Country      63389\n",
       "Pop          54542\n",
       "Rock         27558\n",
       "Jazz         18315\n",
       "Classical    17536\n",
       "Name: genre, dtype: int64"
      ]
     },
     "execution_count": 55,
     "metadata": {},
     "output_type": "execute_result"
    }
   ],
   "source": [
    "Data['genre'].value_counts()"
   ]
  },
  {
   "cell_type": "markdown",
   "metadata": {
    "id": "uI-LUXq6fZ9Z"
   },
   "source": [
    "# 特徴量の処理\n",
    "## 'time_signature'の項目を分ける\n",
    "ワンホットエンコーディングを行い、0/4,3/4,4/4,5/4に分ける"
   ]
  },
  {
   "cell_type": "code",
   "execution_count": 56,
   "metadata": {
    "executionInfo": {
     "elapsed": 2,
     "status": "ok",
     "timestamp": 1661480503816,
     "user": {
      "displayName": "山下穂乃花",
      "userId": "10272557550954922568"
     },
     "user_tz": -540
    },
    "id": "3BiocNrjfZ9Z"
   },
   "outputs": [],
   "source": [
    "Data=pd.get_dummies(Data, columns=['time_signature'])"
   ]
  },
  {
   "cell_type": "markdown",
   "metadata": {
    "id": "nwYBaGcLfZ9a"
   },
   "source": [
    "## 正規化、標準化"
   ]
  },
  {
   "cell_type": "code",
   "execution_count": 57,
   "metadata": {
    "colab": {
     "base_uri": "https://localhost:8080/",
     "height": 283
    },
    "executionInfo": {
     "elapsed": 7,
     "status": "ok",
     "timestamp": 1661480506208,
     "user": {
      "displayName": "山下穂乃花",
      "userId": "10272557550954922568"
     },
     "user_tz": -540
    },
    "id": "9zywbA8H72nm",
    "outputId": "57d666df-686f-4c5d-b78f-4383673bf573"
   },
   "outputs": [
    {
     "data": {
      "text/plain": [
       "<AxesSubplot:>"
      ]
     },
     "execution_count": 57,
     "metadata": {},
     "output_type": "execute_result"
    },
    {
     "data": {
      "image/png": "[encoded data removed]",
      "text/plain": [
       "<Figure size 432x288 with 1 Axes>"
      ]
     },
     "metadata": {
      "needs_background": "light"
     },
     "output_type": "display_data"
    }
   ],
   "source": [
    "Data['loudness'].plot()"
   ]
  },
  {
   "cell_type": "code",
   "execution_count": 58,
   "metadata": {
    "executionInfo": {
     "elapsed": 5,
     "status": "ok",
     "timestamp": 1661480506208,
     "user": {
      "displayName": "山下穂乃花",
      "userId": "10272557550954922568"
     },
     "user_tz": -540
    },
    "id": "Ft_0VwhFPXr1"
   },
   "outputs": [],
   "source": [
    "#正規化\n",
    "def min_max(l):\n",
    "    return (l-l.min())/(l.max()-l.min())\n",
    "\n",
    "l=np.log(Data['duration_ms'])#データの幅が大きいため対数を取る\n",
    "Data['duration_ms']=min_max(Data['duration_ms'])\n",
    "Data['loudness']=min_max(Data['loudness'])\n",
    "Data['tempo']=min_max(Data['tempo'])"
   ]
  },
  {
   "cell_type": "code",
   "execution_count": 59,
   "metadata": {
    "colab": {
     "base_uri": "https://localhost:8080/",
     "height": 283
    },
    "executionInfo": {
     "elapsed": 6,
     "status": "ok",
     "timestamp": 1661480508366,
     "user": {
      "displayName": "山下穂乃花",
      "userId": "10272557550954922568"
     },
     "user_tz": -540
    },
    "id": "ScFcPjM98Cvb",
    "outputId": "e9732f2b-9fc0-42f9-ec4d-6d4ae55c842c"
   },
   "outputs": [
    {
     "data": {
      "text/plain": [
       "<AxesSubplot:>"
      ]
     },
     "execution_count": 59,
     "metadata": {},
     "output_type": "execute_result"
    },
    {
     "data": {
      "image/png": "[encoded data removed]",
      "text/plain": [
       "<Figure size 432x288 with 1 Axes>"
      ]
     },
     "metadata": {
      "needs_background": "light"
     },
     "output_type": "display_data"
    }
   ],
   "source": [
    "Data['loudness'].plot()"
   ]
  },
  {
   "cell_type": "code",
   "execution_count": 60,
   "metadata": {
    "colab": {
     "base_uri": "https://localhost:8080/",
     "height": 283
    },
    "executionInfo": {
     "elapsed": 6,
     "status": "ok",
     "timestamp": 1661480510230,
     "user": {
      "displayName": "山下穂乃花",
      "userId": "10272557550954922568"
     },
     "user_tz": -540
    },
    "id": "2pJMYdl-8ZUy",
    "outputId": "0a064051-d873-47c1-f062-2ed7f9cbc0ef"
   },
   "outputs": [
    {
     "data": {
      "text/plain": [
       "<AxesSubplot:>"
      ]
     },
     "execution_count": 60,
     "metadata": {},
     "output_type": "execute_result"
    },
    {
     "data": {
      "image/png": "[encoded data removed]",
      "text/plain": [
       "<Figure size 432x288 with 1 Axes>"
      ]
     },
     "metadata": {
      "needs_background": "light"
     },
     "output_type": "display_data"
    }
   ],
   "source": [
    "Data['popularity'].plot()"
   ]
  },
  {
   "cell_type": "code",
   "execution_count": 61,
   "metadata": {
    "colab": {
     "base_uri": "https://localhost:8080/",
     "height": 283
    },
    "executionInfo": {
     "elapsed": 13,
     "status": "ok",
     "timestamp": 1661480512374,
     "user": {
      "displayName": "山下穂乃花",
      "userId": "10272557550954922568"
     },
     "user_tz": -540
    },
    "id": "-EdbqJsN8lNU",
    "outputId": "ada62ef3-00ee-411f-cdab-91fbb6b187fb"
   },
   "outputs": [
    {
     "data": {
      "text/plain": [
       "<AxesSubplot:>"
      ]
     },
     "execution_count": 61,
     "metadata": {},
     "output_type": "execute_result"
    },
    {
     "data": {
      "image/png": "[encoded data removed]",
      "text/plain": [
       "<Figure size 432x288 with 1 Axes>"
      ]
     },
     "metadata": {
      "needs_background": "light"
     },
     "output_type": "display_data"
    }
   ],
   "source": [
    "Data['instrumentalness'].plot()"
   ]
  },
  {
   "cell_type": "code",
   "execution_count": 20,
   "metadata": {
    "executionInfo": {
     "elapsed": 8,
     "status": "ok",
     "timestamp": 1661480512376,
     "user": {
      "displayName": "山下穂乃花",
      "userId": "10272557550954922568"
     },
     "user_tz": -540
    },
    "id": "pPXEPQ3PW_gs"
   },
   "outputs": [],
   "source": [
    "#標準化\n",
    "def standardization(l):\n",
    "    return (l-l.mean())/l.std()\n",
    "\n",
    "Data['popularity']=standardization(Data['popularity'])\n",
    "Data['instrumentalness']=standardization(Data['instrumentalness'])"
   ]
  },
  {
   "cell_type": "markdown",
   "metadata": {
    "id": "g-y4HEuffZ9b"
   },
   "source": [
    "## 文字データを数値へ変換"
   ]
  },
  {
   "cell_type": "code",
   "execution_count": 21,
   "metadata": {
    "executionInfo": {
     "elapsed": 2,
     "status": "ok",
     "timestamp": 1661480514672,
     "user": {
      "displayName": "山下穂乃花",
      "userId": "10272557550954922568"
     },
     "user_tz": -540
    },
    "id": "JrulDHavseAF"
   },
   "outputs": [],
   "source": [
    "le=LabelEncoder()\n",
    "le.fit(Data['mode'].fillna('NA'))\n",
    "Data['mode']=le.transform(Data['mode'].fillna('NA'))\n",
    "le.fit(Data['key'].fillna('NA'))\n",
    "Data['key']=le.transform(Data['key'].fillna('NA'))"
   ]
  },
  {
   "cell_type": "code",
   "execution_count": 22,
   "metadata": {
    "executionInfo": {
     "elapsed": 4,
     "status": "ok",
     "timestamp": 1661480515344,
     "user": {
      "displayName": "山下穂乃花",
      "userId": "10272557550954922568"
     },
     "user_tz": -540
    },
    "id": "hXYpnriDfZ9b"
   },
   "outputs": [],
   "source": [
    "le.fit(Data['genre'].fillna('NA'))\n",
    "Data['genre']=le.transform(Data['genre'].fillna('NA'))\n",
    "genre_array=le.classes_#'genre'を数値変換したものをgenreに保存しておく"
   ]
  },
  {
   "cell_type": "code",
   "execution_count": 23,
   "metadata": {
    "colab": {
     "base_uri": "https://localhost:8080/"
    },
    "executionInfo": {
     "elapsed": 5,
     "status": "ok",
     "timestamp": 1661480515345,
     "user": {
      "displayName": "山下穂乃花",
      "userId": "10272557550954922568"
     },
     "user_tz": -540
    },
    "id": "fHGInThGfZ9b",
    "outputId": "b893a114-2cc8-466f-865b-675c500af513"
   },
   "outputs": [
    {
     "data": {
      "text/plain": [
       "array(['Classical', 'Country', 'Jazz', 'Pop', 'Rock'], dtype=object)"
      ]
     },
     "execution_count": 23,
     "metadata": {},
     "output_type": "execute_result"
    }
   ],
   "source": [
    "genre_array"
   ]
  },
  {
   "cell_type": "markdown",
   "metadata": {
    "id": "CeRc4Ho0fZ9b"
   },
   "source": [
    "# 特徴量の選択\n",
    "## 相互情報量の取得"
   ]
  },
  {
   "cell_type": "code",
   "execution_count": null,
   "metadata": {
    "colab": {
     "base_uri": "https://localhost:8080/",
     "height": 397
    },
    "executionInfo": {
     "elapsed": 6502,
     "status": "error",
     "timestamp": 1661472879039,
     "user": {
      "displayName": "山下穂乃花",
      "userId": "10272557550954922568"
     },
     "user_tz": -540
    },
    "id": "_NK1VL0ufZ9c",
    "outputId": "a6dc29e0-bcc3-4bb7-a8a2-03dfc134e348"
   },
   "outputs": [
    {
     "ename": "KeyboardInterrupt",
     "evalue": "ignored",
     "output_type": "error",
     "traceback": [
      "\u001b[0;31m---------------------------------------------------------------------------\u001b[0m",
      "\u001b[0;31mKeyboardInterrupt\u001b[0m                         Traceback (most recent call last)",
      "\u001b[0;32m<ipython-input-22-dc353322458d>\u001b[0m in \u001b[0;36m<module>\u001b[0;34m\u001b[0m\n\u001b[1;32m     11\u001b[0m \u001b[0;34m\u001b[0m\u001b[0m\n\u001b[1;32m     12\u001b[0m \u001b[0mselector\u001b[0m \u001b[0;34m=\u001b[0m \u001b[0mSelectKBest\u001b[0m\u001b[0;34m(\u001b[0m\u001b[0mmutual_info_classif\u001b[0m\u001b[0;34m,\u001b[0m \u001b[0mk\u001b[0m\u001b[0;34m=\u001b[0m\u001b[0;36m7\u001b[0m\u001b[0;34m)\u001b[0m\u001b[0;34m\u001b[0m\u001b[0;34m\u001b[0m\u001b[0m\n\u001b[0;32m---> 13\u001b[0;31m \u001b[0mX_new2\u001b[0m \u001b[0;34m=\u001b[0m \u001b[0mpd\u001b[0m\u001b[0;34m.\u001b[0m\u001b[0mDataFrame\u001b[0m\u001b[0;34m(\u001b[0m\u001b[0mselector\u001b[0m\u001b[0;34m.\u001b[0m\u001b[0mfit_transform\u001b[0m\u001b[0;34m(\u001b[0m\u001b[0mX_new\u001b[0m\u001b[0;34m,\u001b[0m \u001b[0mData\u001b[0m\u001b[0;34m[\u001b[0m\u001b[0;34m'genre'\u001b[0m\u001b[0;34m]\u001b[0m\u001b[0;34m)\u001b[0m\u001b[0;34m,\u001b[0m \u001b[0mcolumns\u001b[0m\u001b[0;34m=\u001b[0m\u001b[0mX_new\u001b[0m\u001b[0;34m.\u001b[0m\u001b[0mcolumns\u001b[0m\u001b[0;34m.\u001b[0m\u001b[0mvalues\u001b[0m\u001b[0;34m[\u001b[0m\u001b[0mselector\u001b[0m\u001b[0;34m.\u001b[0m\u001b[0mget_support\u001b[0m\u001b[0;34m(\u001b[0m\u001b[0;34m)\u001b[0m\u001b[0;34m]\u001b[0m\u001b[0;34m)\u001b[0m\u001b[0;34m\u001b[0m\u001b[0;34m\u001b[0m\u001b[0m\n\u001b[0m\u001b[1;32m     14\u001b[0m \u001b[0mresult\u001b[0m \u001b[0;34m=\u001b[0m \u001b[0mpd\u001b[0m\u001b[0;34m.\u001b[0m\u001b[0mDataFrame\u001b[0m\u001b[0;34m(\u001b[0m\u001b[0mselector\u001b[0m\u001b[0;34m.\u001b[0m\u001b[0mget_support\u001b[0m\u001b[0;34m(\u001b[0m\u001b[0;34m)\u001b[0m\u001b[0;34m,\u001b[0m \u001b[0mindex\u001b[0m\u001b[0;34m=\u001b[0m\u001b[0mX_new\u001b[0m\u001b[0;34m.\u001b[0m\u001b[0mcolumns\u001b[0m\u001b[0;34m.\u001b[0m\u001b[0mvalues\u001b[0m\u001b[0;34m,\u001b[0m \u001b[0mcolumns\u001b[0m\u001b[0;34m=\u001b[0m\u001b[0;34m[\u001b[0m\u001b[0;34m'False: dropped'\u001b[0m\u001b[0;34m]\u001b[0m\u001b[0;34m)\u001b[0m\u001b[0;34m\u001b[0m\u001b[0;34m\u001b[0m\u001b[0m\n\u001b[1;32m     15\u001b[0m \u001b[0mresult\u001b[0m\u001b[0;34m[\u001b[0m\u001b[0;34m'score'\u001b[0m\u001b[0;34m]\u001b[0m \u001b[0;34m=\u001b[0m \u001b[0mselector\u001b[0m\u001b[0;34m.\u001b[0m\u001b[0mscores_\u001b[0m\u001b[0;34m\u001b[0m\u001b[0;34m\u001b[0m\u001b[0m\n",
      "\u001b[0;32m/usr/local/lib/python3.7/dist-packages/sklearn/base.py\u001b[0m in \u001b[0;36mfit_transform\u001b[0;34m(self, X, y, **fit_params)\u001b[0m\n\u001b[1;32m    853\u001b[0m         \u001b[0;32melse\u001b[0m\u001b[0;34m:\u001b[0m\u001b[0;34m\u001b[0m\u001b[0;34m\u001b[0m\u001b[0m\n\u001b[1;32m    854\u001b[0m             \u001b[0;31m# fit method of arity 2 (supervised transformation)\u001b[0m\u001b[0;34m\u001b[0m\u001b[0;34m\u001b[0m\u001b[0;34m\u001b[0m\u001b[0m\n\u001b[0;32m--> 855\u001b[0;31m             \u001b[0;32mreturn\u001b[0m \u001b[0mself\u001b[0m\u001b[0;34m.\u001b[0m\u001b[0mfit\u001b[0m\u001b[0;34m(\u001b[0m\u001b[0mX\u001b[0m\u001b[0;34m,\u001b[0m \u001b[0my\u001b[0m\u001b[0;34m,\u001b[0m \u001b[0;34m**\u001b[0m\u001b[0mfit_params\u001b[0m\u001b[0;34m)\u001b[0m\u001b[0;34m.\u001b[0m\u001b[0mtransform\u001b[0m\u001b[0;34m(\u001b[0m\u001b[0mX\u001b[0m\u001b[0;34m)\u001b[0m\u001b[0;34m\u001b[0m\u001b[0;34m\u001b[0m\u001b[0m\n\u001b[0m\u001b[1;32m    856\u001b[0m \u001b[0;34m\u001b[0m\u001b[0m\n\u001b[1;32m    857\u001b[0m \u001b[0;34m\u001b[0m\u001b[0m\n",
      "\u001b[0;32m/usr/local/lib/python3.7/dist-packages/sklearn/feature_selection/_univariate_selection.py\u001b[0m in \u001b[0;36mfit\u001b[0;34m(self, X, y)\u001b[0m\n\u001b[1;32m    406\u001b[0m \u001b[0;34m\u001b[0m\u001b[0m\n\u001b[1;32m    407\u001b[0m         \u001b[0mself\u001b[0m\u001b[0;34m.\u001b[0m\u001b[0m_check_params\u001b[0m\u001b[0;34m(\u001b[0m\u001b[0mX\u001b[0m\u001b[0;34m,\u001b[0m \u001b[0my\u001b[0m\u001b[0;34m)\u001b[0m\u001b[0;34m\u001b[0m\u001b[0;34m\u001b[0m\u001b[0m\n\u001b[0;32m--> 408\u001b[0;31m         \u001b[0mscore_func_ret\u001b[0m \u001b[0;34m=\u001b[0m \u001b[0mself\u001b[0m\u001b[0;34m.\u001b[0m\u001b[0mscore_func\u001b[0m\u001b[0;34m(\u001b[0m\u001b[0mX\u001b[0m\u001b[0;34m,\u001b[0m \u001b[0my\u001b[0m\u001b[0;34m)\u001b[0m\u001b[0;34m\u001b[0m\u001b[0;34m\u001b[0m\u001b[0m\n\u001b[0m\u001b[1;32m    409\u001b[0m         \u001b[0;32mif\u001b[0m \u001b[0misinstance\u001b[0m\u001b[0;34m(\u001b[0m\u001b[0mscore_func_ret\u001b[0m\u001b[0;34m,\u001b[0m \u001b[0;34m(\u001b[0m\u001b[0mlist\u001b[0m\u001b[0;34m,\u001b[0m \u001b[0mtuple\u001b[0m\u001b[0;34m)\u001b[0m\u001b[0;34m)\u001b[0m\u001b[0;34m:\u001b[0m\u001b[0;34m\u001b[0m\u001b[0;34m\u001b[0m\u001b[0m\n\u001b[1;32m    410\u001b[0m             \u001b[0mself\u001b[0m\u001b[0;34m.\u001b[0m\u001b[0mscores_\u001b[0m\u001b[0;34m,\u001b[0m \u001b[0mself\u001b[0m\u001b[0;34m.\u001b[0m\u001b[0mpvalues_\u001b[0m \u001b[0;34m=\u001b[0m \u001b[0mscore_func_ret\u001b[0m\u001b[0;34m\u001b[0m\u001b[0;34m\u001b[0m\u001b[0m\n",
      "\u001b[0;32m/usr/local/lib/python3.7/dist-packages/sklearn/feature_selection/_mutual_info.py\u001b[0m in \u001b[0;36mmutual_info_classif\u001b[0;34m(X, y, discrete_features, n_neighbors, copy, random_state)\u001b[0m\n\u001b[1;32m    462\u001b[0m     \"\"\"\n\u001b[1;32m    463\u001b[0m     \u001b[0mcheck_classification_targets\u001b[0m\u001b[0;34m(\u001b[0m\u001b[0my\u001b[0m\u001b[0;34m)\u001b[0m\u001b[0;34m\u001b[0m\u001b[0;34m\u001b[0m\u001b[0m\n\u001b[0;32m--> 464\u001b[0;31m     \u001b[0;32mreturn\u001b[0m \u001b[0m_estimate_mi\u001b[0m\u001b[0;34m(\u001b[0m\u001b[0mX\u001b[0m\u001b[0;34m,\u001b[0m \u001b[0my\u001b[0m\u001b[0;34m,\u001b[0m \u001b[0mdiscrete_features\u001b[0m\u001b[0;34m,\u001b[0m \u001b[0;32mTrue\u001b[0m\u001b[0;34m,\u001b[0m \u001b[0mn_neighbors\u001b[0m\u001b[0;34m,\u001b[0m \u001b[0mcopy\u001b[0m\u001b[0;34m,\u001b[0m \u001b[0mrandom_state\u001b[0m\u001b[0;34m)\u001b[0m\u001b[0;34m\u001b[0m\u001b[0;34m\u001b[0m\u001b[0m\n\u001b[0m",
      "\u001b[0;32m/usr/local/lib/python3.7/dist-packages/sklearn/feature_selection/_mutual_info.py\u001b[0m in \u001b[0;36m_estimate_mi\u001b[0;34m(X, y, discrete_features, discrete_target, n_neighbors, copy, random_state)\u001b[0m\n\u001b[1;32m    300\u001b[0m     mi = [\n\u001b[1;32m    301\u001b[0m         \u001b[0m_compute_mi\u001b[0m\u001b[0;34m(\u001b[0m\u001b[0mx\u001b[0m\u001b[0;34m,\u001b[0m \u001b[0my\u001b[0m\u001b[0;34m,\u001b[0m \u001b[0mdiscrete_feature\u001b[0m\u001b[0;34m,\u001b[0m \u001b[0mdiscrete_target\u001b[0m\u001b[0;34m,\u001b[0m \u001b[0mn_neighbors\u001b[0m\u001b[0;34m)\u001b[0m\u001b[0;34m\u001b[0m\u001b[0;34m\u001b[0m\u001b[0m\n\u001b[0;32m--> 302\u001b[0;31m         \u001b[0;32mfor\u001b[0m \u001b[0mx\u001b[0m\u001b[0;34m,\u001b[0m \u001b[0mdiscrete_feature\u001b[0m \u001b[0;32min\u001b[0m \u001b[0mzip\u001b[0m\u001b[0;34m(\u001b[0m\u001b[0m_iterate_columns\u001b[0m\u001b[0;34m(\u001b[0m\u001b[0mX\u001b[0m\u001b[0;34m)\u001b[0m\u001b[0;34m,\u001b[0m \u001b[0mdiscrete_mask\u001b[0m\u001b[0;34m)\u001b[0m\u001b[0;34m\u001b[0m\u001b[0;34m\u001b[0m\u001b[0m\n\u001b[0m\u001b[1;32m    303\u001b[0m     ]\n\u001b[1;32m    304\u001b[0m \u001b[0;34m\u001b[0m\u001b[0m\n",
      "\u001b[0;32m/usr/local/lib/python3.7/dist-packages/sklearn/feature_selection/_mutual_info.py\u001b[0m in \u001b[0;36m<listcomp>\u001b[0;34m(.0)\u001b[0m\n\u001b[1;32m    300\u001b[0m     mi = [\n\u001b[1;32m    301\u001b[0m         \u001b[0m_compute_mi\u001b[0m\u001b[0;34m(\u001b[0m\u001b[0mx\u001b[0m\u001b[0;34m,\u001b[0m \u001b[0my\u001b[0m\u001b[0;34m,\u001b[0m \u001b[0mdiscrete_feature\u001b[0m\u001b[0;34m,\u001b[0m \u001b[0mdiscrete_target\u001b[0m\u001b[0;34m,\u001b[0m \u001b[0mn_neighbors\u001b[0m\u001b[0;34m)\u001b[0m\u001b[0;34m\u001b[0m\u001b[0;34m\u001b[0m\u001b[0m\n\u001b[0;32m--> 302\u001b[0;31m         \u001b[0;32mfor\u001b[0m \u001b[0mx\u001b[0m\u001b[0;34m,\u001b[0m \u001b[0mdiscrete_feature\u001b[0m \u001b[0;32min\u001b[0m \u001b[0mzip\u001b[0m\u001b[0;34m(\u001b[0m\u001b[0m_iterate_columns\u001b[0m\u001b[0;34m(\u001b[0m\u001b[0mX\u001b[0m\u001b[0;34m)\u001b[0m\u001b[0;34m,\u001b[0m \u001b[0mdiscrete_mask\u001b[0m\u001b[0;34m)\u001b[0m\u001b[0;34m\u001b[0m\u001b[0;34m\u001b[0m\u001b[0m\n\u001b[0m\u001b[1;32m    303\u001b[0m     ]\n\u001b[1;32m    304\u001b[0m \u001b[0;34m\u001b[0m\u001b[0m\n",
      "\u001b[0;32m/usr/local/lib/python3.7/dist-packages/sklearn/feature_selection/_mutual_info.py\u001b[0m in \u001b[0;36m_compute_mi\u001b[0;34m(x, y, x_discrete, y_discrete, n_neighbors)\u001b[0m\n\u001b[1;32m    162\u001b[0m         \u001b[0;32mreturn\u001b[0m \u001b[0m_compute_mi_cd\u001b[0m\u001b[0;34m(\u001b[0m\u001b[0my\u001b[0m\u001b[0;34m,\u001b[0m \u001b[0mx\u001b[0m\u001b[0;34m,\u001b[0m \u001b[0mn_neighbors\u001b[0m\u001b[0;34m)\u001b[0m\u001b[0;34m\u001b[0m\u001b[0;34m\u001b[0m\u001b[0m\n\u001b[1;32m    163\u001b[0m     \u001b[0;32melif\u001b[0m \u001b[0;32mnot\u001b[0m \u001b[0mx_discrete\u001b[0m \u001b[0;32mand\u001b[0m \u001b[0my_discrete\u001b[0m\u001b[0;34m:\u001b[0m\u001b[0;34m\u001b[0m\u001b[0;34m\u001b[0m\u001b[0m\n\u001b[0;32m--> 164\u001b[0;31m         \u001b[0;32mreturn\u001b[0m \u001b[0m_compute_mi_cd\u001b[0m\u001b[0;34m(\u001b[0m\u001b[0mx\u001b[0m\u001b[0;34m,\u001b[0m \u001b[0my\u001b[0m\u001b[0;34m,\u001b[0m \u001b[0mn_neighbors\u001b[0m\u001b[0;34m)\u001b[0m\u001b[0;34m\u001b[0m\u001b[0;34m\u001b[0m\u001b[0m\n\u001b[0m\u001b[1;32m    165\u001b[0m     \u001b[0;32melse\u001b[0m\u001b[0;34m:\u001b[0m\u001b[0;34m\u001b[0m\u001b[0;34m\u001b[0m\u001b[0m\n\u001b[1;32m    166\u001b[0m         \u001b[0;32mreturn\u001b[0m \u001b[0m_compute_mi_cc\u001b[0m\u001b[0;34m(\u001b[0m\u001b[0mx\u001b[0m\u001b[0;34m,\u001b[0m \u001b[0my\u001b[0m\u001b[0;34m,\u001b[0m \u001b[0mn_neighbors\u001b[0m\u001b[0;34m)\u001b[0m\u001b[0;34m\u001b[0m\u001b[0;34m\u001b[0m\u001b[0m\n",
      "\u001b[0;32m/usr/local/lib/python3.7/dist-packages/sklearn/feature_selection/_mutual_info.py\u001b[0m in \u001b[0;36m_compute_mi_cd\u001b[0;34m(c, d, n_neighbors)\u001b[0m\n\u001b[1;32m    124\u001b[0m             \u001b[0mnn\u001b[0m\u001b[0;34m.\u001b[0m\u001b[0mset_params\u001b[0m\u001b[0;34m(\u001b[0m\u001b[0mn_neighbors\u001b[0m\u001b[0;34m=\u001b[0m\u001b[0mk\u001b[0m\u001b[0;34m)\u001b[0m\u001b[0;34m\u001b[0m\u001b[0;34m\u001b[0m\u001b[0m\n\u001b[1;32m    125\u001b[0m             \u001b[0mnn\u001b[0m\u001b[0;34m.\u001b[0m\u001b[0mfit\u001b[0m\u001b[0;34m(\u001b[0m\u001b[0mc\u001b[0m\u001b[0;34m[\u001b[0m\u001b[0mmask\u001b[0m\u001b[0;34m]\u001b[0m\u001b[0;34m)\u001b[0m\u001b[0;34m\u001b[0m\u001b[0;34m\u001b[0m\u001b[0m\n\u001b[0;32m--> 126\u001b[0;31m             \u001b[0mr\u001b[0m \u001b[0;34m=\u001b[0m \u001b[0mnn\u001b[0m\u001b[0;34m.\u001b[0m\u001b[0mkneighbors\u001b[0m\u001b[0;34m(\u001b[0m\u001b[0;34m)\u001b[0m\u001b[0;34m[\u001b[0m\u001b[0;36m0\u001b[0m\u001b[0;34m]\u001b[0m\u001b[0;34m\u001b[0m\u001b[0;34m\u001b[0m\u001b[0m\n\u001b[0m\u001b[1;32m    127\u001b[0m             \u001b[0mradius\u001b[0m\u001b[0;34m[\u001b[0m\u001b[0mmask\u001b[0m\u001b[0;34m]\u001b[0m \u001b[0;34m=\u001b[0m \u001b[0mnp\u001b[0m\u001b[0;34m.\u001b[0m\u001b[0mnextafter\u001b[0m\u001b[0;34m(\u001b[0m\u001b[0mr\u001b[0m\u001b[0;34m[\u001b[0m\u001b[0;34m:\u001b[0m\u001b[0;34m,\u001b[0m \u001b[0;34m-\u001b[0m\u001b[0;36m1\u001b[0m\u001b[0;34m]\u001b[0m\u001b[0;34m,\u001b[0m \u001b[0;36m0\u001b[0m\u001b[0;34m)\u001b[0m\u001b[0;34m\u001b[0m\u001b[0;34m\u001b[0m\u001b[0m\n\u001b[1;32m    128\u001b[0m             \u001b[0mk_all\u001b[0m\u001b[0;34m[\u001b[0m\u001b[0mmask\u001b[0m\u001b[0;34m]\u001b[0m \u001b[0;34m=\u001b[0m \u001b[0mk\u001b[0m\u001b[0;34m\u001b[0m\u001b[0;34m\u001b[0m\u001b[0m\n",
      "\u001b[0;32m/usr/local/lib/python3.7/dist-packages/sklearn/neighbors/_base.py\u001b[0m in \u001b[0;36mkneighbors\u001b[0;34m(self, X, n_neighbors, return_distance)\u001b[0m\n\u001b[1;32m    778\u001b[0m                     \u001b[0mself\u001b[0m\u001b[0;34m.\u001b[0m\u001b[0m_tree\u001b[0m\u001b[0;34m,\u001b[0m \u001b[0mX\u001b[0m\u001b[0;34m[\u001b[0m\u001b[0ms\u001b[0m\u001b[0;34m]\u001b[0m\u001b[0;34m,\u001b[0m \u001b[0mn_neighbors\u001b[0m\u001b[0;34m,\u001b[0m \u001b[0mreturn_distance\u001b[0m\u001b[0;34m\u001b[0m\u001b[0;34m\u001b[0m\u001b[0m\n\u001b[1;32m    779\u001b[0m                 )\n\u001b[0;32m--> 780\u001b[0;31m                 \u001b[0;32mfor\u001b[0m \u001b[0ms\u001b[0m \u001b[0;32min\u001b[0m \u001b[0mgen_even_slices\u001b[0m\u001b[0;34m(\u001b[0m\u001b[0mX\u001b[0m\u001b[0;34m.\u001b[0m\u001b[0mshape\u001b[0m\u001b[0;34m[\u001b[0m\u001b[0;36m0\u001b[0m\u001b[0;34m]\u001b[0m\u001b[0;34m,\u001b[0m \u001b[0mn_jobs\u001b[0m\u001b[0;34m)\u001b[0m\u001b[0;34m\u001b[0m\u001b[0;34m\u001b[0m\u001b[0m\n\u001b[0m\u001b[1;32m    781\u001b[0m             )\n\u001b[1;32m    782\u001b[0m         \u001b[0;32melse\u001b[0m\u001b[0;34m:\u001b[0m\u001b[0;34m\u001b[0m\u001b[0;34m\u001b[0m\u001b[0m\n",
      "\u001b[0;32m/usr/local/lib/python3.7/dist-packages/joblib/parallel.py\u001b[0m in \u001b[0;36m__call__\u001b[0;34m(self, iterable)\u001b[0m\n\u001b[1;32m   1041\u001b[0m             \u001b[0;31m# remaining jobs.\u001b[0m\u001b[0;34m\u001b[0m\u001b[0;34m\u001b[0m\u001b[0;34m\u001b[0m\u001b[0m\n\u001b[1;32m   1042\u001b[0m             \u001b[0mself\u001b[0m\u001b[0;34m.\u001b[0m\u001b[0m_iterating\u001b[0m \u001b[0;34m=\u001b[0m \u001b[0;32mFalse\u001b[0m\u001b[0;34m\u001b[0m\u001b[0;34m\u001b[0m\u001b[0m\n\u001b[0;32m-> 1043\u001b[0;31m             \u001b[0;32mif\u001b[0m \u001b[0mself\u001b[0m\u001b[0;34m.\u001b[0m\u001b[0mdispatch_one_batch\u001b[0m\u001b[0;34m(\u001b[0m\u001b[0miterator\u001b[0m\u001b[0;34m)\u001b[0m\u001b[0;34m:\u001b[0m\u001b[0;34m\u001b[0m\u001b[0;34m\u001b[0m\u001b[0m\n\u001b[0m\u001b[1;32m   1044\u001b[0m                 \u001b[0mself\u001b[0m\u001b[0;34m.\u001b[0m\u001b[0m_iterating\u001b[0m \u001b[0;34m=\u001b[0m \u001b[0mself\u001b[0m\u001b[0;34m.\u001b[0m\u001b[0m_original_iterator\u001b[0m \u001b[0;32mis\u001b[0m \u001b[0;32mnot\u001b[0m \u001b[0;32mNone\u001b[0m\u001b[0;34m\u001b[0m\u001b[0;34m\u001b[0m\u001b[0m\n\u001b[1;32m   1045\u001b[0m \u001b[0;34m\u001b[0m\u001b[0m\n",
      "\u001b[0;32m/usr/local/lib/python3.7/dist-packages/joblib/parallel.py\u001b[0m in \u001b[0;36mdispatch_one_batch\u001b[0;34m(self, iterator)\u001b[0m\n\u001b[1;32m    859\u001b[0m                 \u001b[0;32mreturn\u001b[0m \u001b[0;32mFalse\u001b[0m\u001b[0;34m\u001b[0m\u001b[0;34m\u001b[0m\u001b[0m\n\u001b[1;32m    860\u001b[0m             \u001b[0;32melse\u001b[0m\u001b[0;34m:\u001b[0m\u001b[0;34m\u001b[0m\u001b[0;34m\u001b[0m\u001b[0m\n\u001b[0;32m--> 861\u001b[0;31m                 \u001b[0mself\u001b[0m\u001b[0;34m.\u001b[0m\u001b[0m_dispatch\u001b[0m\u001b[0;34m(\u001b[0m\u001b[0mtasks\u001b[0m\u001b[0;34m)\u001b[0m\u001b[0;34m\u001b[0m\u001b[0;34m\u001b[0m\u001b[0m\n\u001b[0m\u001b[1;32m    862\u001b[0m                 \u001b[0;32mreturn\u001b[0m \u001b[0;32mTrue\u001b[0m\u001b[0;34m\u001b[0m\u001b[0;34m\u001b[0m\u001b[0m\n\u001b[1;32m    863\u001b[0m \u001b[0;34m\u001b[0m\u001b[0m\n",
      "\u001b[0;32m/usr/local/lib/python3.7/dist-packages/joblib/parallel.py\u001b[0m in \u001b[0;36m_dispatch\u001b[0;34m(self, batch)\u001b[0m\n\u001b[1;32m    777\u001b[0m         \u001b[0;32mwith\u001b[0m \u001b[0mself\u001b[0m\u001b[0;34m.\u001b[0m\u001b[0m_lock\u001b[0m\u001b[0;34m:\u001b[0m\u001b[0;34m\u001b[0m\u001b[0;34m\u001b[0m\u001b[0m\n\u001b[1;32m    778\u001b[0m             \u001b[0mjob_idx\u001b[0m \u001b[0;34m=\u001b[0m \u001b[0mlen\u001b[0m\u001b[0;34m(\u001b[0m\u001b[0mself\u001b[0m\u001b[0;34m.\u001b[0m\u001b[0m_jobs\u001b[0m\u001b[0;34m)\u001b[0m\u001b[0;34m\u001b[0m\u001b[0;34m\u001b[0m\u001b[0m\n\u001b[0;32m--> 779\u001b[0;31m             \u001b[0mjob\u001b[0m \u001b[0;34m=\u001b[0m \u001b[0mself\u001b[0m\u001b[0;34m.\u001b[0m\u001b[0m_backend\u001b[0m\u001b[0;34m.\u001b[0m\u001b[0mapply_async\u001b[0m\u001b[0;34m(\u001b[0m\u001b[0mbatch\u001b[0m\u001b[0;34m,\u001b[0m \u001b[0mcallback\u001b[0m\u001b[0;34m=\u001b[0m\u001b[0mcb\u001b[0m\u001b[0;34m)\u001b[0m\u001b[0;34m\u001b[0m\u001b[0;34m\u001b[0m\u001b[0m\n\u001b[0m\u001b[1;32m    780\u001b[0m             \u001b[0;31m# A job can complete so quickly than its callback is\u001b[0m\u001b[0;34m\u001b[0m\u001b[0;34m\u001b[0m\u001b[0;34m\u001b[0m\u001b[0m\n\u001b[1;32m    781\u001b[0m             \u001b[0;31m# called before we get here, causing self._jobs to\u001b[0m\u001b[0;34m\u001b[0m\u001b[0;34m\u001b[0m\u001b[0;34m\u001b[0m\u001b[0m\n",
      "\u001b[0;32m/usr/local/lib/python3.7/dist-packages/joblib/_parallel_backends.py\u001b[0m in \u001b[0;36mapply_async\u001b[0;34m(self, func, callback)\u001b[0m\n\u001b[1;32m    206\u001b[0m     \u001b[0;32mdef\u001b[0m \u001b[0mapply_async\u001b[0m\u001b[0;34m(\u001b[0m\u001b[0mself\u001b[0m\u001b[0;34m,\u001b[0m \u001b[0mfunc\u001b[0m\u001b[0;34m,\u001b[0m \u001b[0mcallback\u001b[0m\u001b[0;34m=\u001b[0m\u001b[0;32mNone\u001b[0m\u001b[0;34m)\u001b[0m\u001b[0;34m:\u001b[0m\u001b[0;34m\u001b[0m\u001b[0;34m\u001b[0m\u001b[0m\n\u001b[1;32m    207\u001b[0m         \u001b[0;34m\"\"\"Schedule a func to be run\"\"\"\u001b[0m\u001b[0;34m\u001b[0m\u001b[0;34m\u001b[0m\u001b[0m\n\u001b[0;32m--> 208\u001b[0;31m         \u001b[0mresult\u001b[0m \u001b[0;34m=\u001b[0m \u001b[0mImmediateResult\u001b[0m\u001b[0;34m(\u001b[0m\u001b[0mfunc\u001b[0m\u001b[0;34m)\u001b[0m\u001b[0;34m\u001b[0m\u001b[0;34m\u001b[0m\u001b[0m\n\u001b[0m\u001b[1;32m    209\u001b[0m         \u001b[0;32mif\u001b[0m \u001b[0mcallback\u001b[0m\u001b[0;34m:\u001b[0m\u001b[0;34m\u001b[0m\u001b[0;34m\u001b[0m\u001b[0m\n\u001b[1;32m    210\u001b[0m             \u001b[0mcallback\u001b[0m\u001b[0;34m(\u001b[0m\u001b[0mresult\u001b[0m\u001b[0;34m)\u001b[0m\u001b[0;34m\u001b[0m\u001b[0;34m\u001b[0m\u001b[0m\n",
      "\u001b[0;32m/usr/local/lib/python3.7/dist-packages/joblib/_parallel_backends.py\u001b[0m in \u001b[0;36m__init__\u001b[0;34m(self, batch)\u001b[0m\n\u001b[1;32m    570\u001b[0m         \u001b[0;31m# Don't delay the application, to avoid keeping the input\u001b[0m\u001b[0;34m\u001b[0m\u001b[0;34m\u001b[0m\u001b[0;34m\u001b[0m\u001b[0m\n\u001b[1;32m    571\u001b[0m         \u001b[0;31m# arguments in memory\u001b[0m\u001b[0;34m\u001b[0m\u001b[0;34m\u001b[0m\u001b[0;34m\u001b[0m\u001b[0m\n\u001b[0;32m--> 572\u001b[0;31m         \u001b[0mself\u001b[0m\u001b[0;34m.\u001b[0m\u001b[0mresults\u001b[0m \u001b[0;34m=\u001b[0m \u001b[0mbatch\u001b[0m\u001b[0;34m(\u001b[0m\u001b[0;34m)\u001b[0m\u001b[0;34m\u001b[0m\u001b[0;34m\u001b[0m\u001b[0m\n\u001b[0m\u001b[1;32m    573\u001b[0m \u001b[0;34m\u001b[0m\u001b[0m\n\u001b[1;32m    574\u001b[0m     \u001b[0;32mdef\u001b[0m \u001b[0mget\u001b[0m\u001b[0;34m(\u001b[0m\u001b[0mself\u001b[0m\u001b[0;34m)\u001b[0m\u001b[0;34m:\u001b[0m\u001b[0;34m\u001b[0m\u001b[0;34m\u001b[0m\u001b[0m\n",
      "\u001b[0;32m/usr/local/lib/python3.7/dist-packages/joblib/parallel.py\u001b[0m in \u001b[0;36m__call__\u001b[0;34m(self)\u001b[0m\n\u001b[1;32m    261\u001b[0m         \u001b[0;32mwith\u001b[0m \u001b[0mparallel_backend\u001b[0m\u001b[0;34m(\u001b[0m\u001b[0mself\u001b[0m\u001b[0;34m.\u001b[0m\u001b[0m_backend\u001b[0m\u001b[0;34m,\u001b[0m \u001b[0mn_jobs\u001b[0m\u001b[0;34m=\u001b[0m\u001b[0mself\u001b[0m\u001b[0;34m.\u001b[0m\u001b[0m_n_jobs\u001b[0m\u001b[0;34m)\u001b[0m\u001b[0;34m:\u001b[0m\u001b[0;34m\u001b[0m\u001b[0;34m\u001b[0m\u001b[0m\n\u001b[1;32m    262\u001b[0m             return [func(*args, **kwargs)\n\u001b[0;32m--> 263\u001b[0;31m                     for func, args, kwargs in self.items]\n\u001b[0m\u001b[1;32m    264\u001b[0m \u001b[0;34m\u001b[0m\u001b[0m\n\u001b[1;32m    265\u001b[0m     \u001b[0;32mdef\u001b[0m \u001b[0m__reduce__\u001b[0m\u001b[0;34m(\u001b[0m\u001b[0mself\u001b[0m\u001b[0;34m)\u001b[0m\u001b[0;34m:\u001b[0m\u001b[0;34m\u001b[0m\u001b[0;34m\u001b[0m\u001b[0m\n",
      "\u001b[0;32m/usr/local/lib/python3.7/dist-packages/joblib/parallel.py\u001b[0m in \u001b[0;36m<listcomp>\u001b[0;34m(.0)\u001b[0m\n\u001b[1;32m    261\u001b[0m         \u001b[0;32mwith\u001b[0m \u001b[0mparallel_backend\u001b[0m\u001b[0;34m(\u001b[0m\u001b[0mself\u001b[0m\u001b[0;34m.\u001b[0m\u001b[0m_backend\u001b[0m\u001b[0;34m,\u001b[0m \u001b[0mn_jobs\u001b[0m\u001b[0;34m=\u001b[0m\u001b[0mself\u001b[0m\u001b[0;34m.\u001b[0m\u001b[0m_n_jobs\u001b[0m\u001b[0;34m)\u001b[0m\u001b[0;34m:\u001b[0m\u001b[0;34m\u001b[0m\u001b[0;34m\u001b[0m\u001b[0m\n\u001b[1;32m    262\u001b[0m             return [func(*args, **kwargs)\n\u001b[0;32m--> 263\u001b[0;31m                     for func, args, kwargs in self.items]\n\u001b[0m\u001b[1;32m    264\u001b[0m \u001b[0;34m\u001b[0m\u001b[0m\n\u001b[1;32m    265\u001b[0m     \u001b[0;32mdef\u001b[0m \u001b[0m__reduce__\u001b[0m\u001b[0;34m(\u001b[0m\u001b[0mself\u001b[0m\u001b[0;34m)\u001b[0m\u001b[0;34m:\u001b[0m\u001b[0;34m\u001b[0m\u001b[0;34m\u001b[0m\u001b[0m\n",
      "\u001b[0;32m/usr/local/lib/python3.7/dist-packages/sklearn/utils/fixes.py\u001b[0m in \u001b[0;36m__call__\u001b[0;34m(self, *args, **kwargs)\u001b[0m\n\u001b[1;32m    214\u001b[0m     \u001b[0;32mdef\u001b[0m \u001b[0m__call__\u001b[0m\u001b[0;34m(\u001b[0m\u001b[0mself\u001b[0m\u001b[0;34m,\u001b[0m \u001b[0;34m*\u001b[0m\u001b[0margs\u001b[0m\u001b[0;34m,\u001b[0m \u001b[0;34m**\u001b[0m\u001b[0mkwargs\u001b[0m\u001b[0;34m)\u001b[0m\u001b[0;34m:\u001b[0m\u001b[0;34m\u001b[0m\u001b[0;34m\u001b[0m\u001b[0m\n\u001b[1;32m    215\u001b[0m         \u001b[0;32mwith\u001b[0m \u001b[0mconfig_context\u001b[0m\u001b[0;34m(\u001b[0m\u001b[0;34m**\u001b[0m\u001b[0mself\u001b[0m\u001b[0;34m.\u001b[0m\u001b[0mconfig\u001b[0m\u001b[0;34m)\u001b[0m\u001b[0;34m:\u001b[0m\u001b[0;34m\u001b[0m\u001b[0;34m\u001b[0m\u001b[0m\n\u001b[0;32m--> 216\u001b[0;31m             \u001b[0;32mreturn\u001b[0m \u001b[0mself\u001b[0m\u001b[0;34m.\u001b[0m\u001b[0mfunction\u001b[0m\u001b[0;34m(\u001b[0m\u001b[0;34m*\u001b[0m\u001b[0margs\u001b[0m\u001b[0;34m,\u001b[0m \u001b[0;34m**\u001b[0m\u001b[0mkwargs\u001b[0m\u001b[0;34m)\u001b[0m\u001b[0;34m\u001b[0m\u001b[0;34m\u001b[0m\u001b[0m\n\u001b[0m\u001b[1;32m    217\u001b[0m \u001b[0;34m\u001b[0m\u001b[0m\n\u001b[1;32m    218\u001b[0m \u001b[0;34m\u001b[0m\u001b[0m\n",
      "\u001b[0;32m/usr/local/lib/python3.7/dist-packages/sklearn/neighbors/_base.py\u001b[0m in \u001b[0;36m_tree_query_parallel_helper\u001b[0;34m(tree, *args, **kwargs)\u001b[0m\n\u001b[1;32m    598\u001b[0m     \u001b[0munder\u001b[0m \u001b[0mPyPy\u001b[0m\u001b[0;34m.\u001b[0m\u001b[0;34m\u001b[0m\u001b[0;34m\u001b[0m\u001b[0m\n\u001b[1;32m    599\u001b[0m     \"\"\"\n\u001b[0;32m--> 600\u001b[0;31m     \u001b[0;32mreturn\u001b[0m \u001b[0mtree\u001b[0m\u001b[0;34m.\u001b[0m\u001b[0mquery\u001b[0m\u001b[0;34m(\u001b[0m\u001b[0;34m*\u001b[0m\u001b[0margs\u001b[0m\u001b[0;34m,\u001b[0m \u001b[0;34m**\u001b[0m\u001b[0mkwargs\u001b[0m\u001b[0;34m)\u001b[0m\u001b[0;34m\u001b[0m\u001b[0;34m\u001b[0m\u001b[0m\n\u001b[0m\u001b[1;32m    601\u001b[0m \u001b[0;34m\u001b[0m\u001b[0m\n\u001b[1;32m    602\u001b[0m \u001b[0;34m\u001b[0m\u001b[0m\n",
      "\u001b[0;31mKeyboardInterrupt\u001b[0m: "
     ]
    }
   ],
   "source": [
    "X=Data[['popularity','acousticness','danceability','duration_ms','energy','instrumentalness','key','liveness','loudness','mode','speechiness','tempo','time_signature_0/4','time_signature_3/4','time_signature_4/4','time_signature_5/4','valence']]\n",
    "\n",
    "from sklearn.feature_selection import VarianceThreshold\n",
    "\n",
    "sel = VarianceThreshold()\n",
    "sel.fit_transform(X)\n",
    "\n",
    "X_new = pd.DataFrame(sel.fit_transform(X), columns=X.columns.values[sel.get_support()])\n",
    "\n",
    "from sklearn.feature_selection import SelectKBest, mutual_info_classif\n",
    "\n",
    "selector = SelectKBest(mutual_info_classif, k=7)\n",
    "X_new2 = pd.DataFrame(selector.fit_transform(X_new, Data['genre']), columns=X_new.columns.values[selector.get_support()])\n",
    "result = pd.DataFrame(selector.get_support(), index=X_new.columns.values, columns=['False: dropped'])\n",
    "result['score'] = selector.scores_\n",
    "result['pvalue'] = selector.pvalues_\n",
    "\n",
    "print(result)"
   ]
  },
  {
   "cell_type": "code",
   "execution_count": 24,
   "metadata": {
    "id": "cS1SkWhPHCDg"
   },
   "outputs": [],
   "source": [
    "X=Data[['popularity','danceability','energy','acousticness','instrumentalness','speechiness','loudness']]"
   ]
  },
  {
   "cell_type": "markdown",
   "metadata": {
    "id": "G6ChENnQfZ9c"
   },
   "source": [
    "相互情報量をもとに、dropedがTrueのものだけ扱う"
   ]
  },
  {
   "cell_type": "code",
   "execution_count": 25,
   "metadata": {
    "colab": {
     "base_uri": "https://localhost:8080/",
     "height": 206
    },
    "executionInfo": {
     "elapsed": 1069,
     "status": "ok",
     "timestamp": 1661472900849,
     "user": {
      "displayName": "山下穂乃花",
      "userId": "10272557550954922568"
     },
     "user_tz": -540
    },
    "id": "uyZ3w9rxJLly",
    "outputId": "73a86e0a-c161-412a-8cec-e08fdb3c5c04"
   },
   "outputs": [
    {
     "data": {
      "text/html": [
       "<div>\n",
       "<style scoped>\n",
       "    .dataframe tbody tr th:only-of-type {\n",
       "        vertical-align: middle;\n",
       "    }\n",
       "\n",
       "    .dataframe tbody tr th {\n",
       "        vertical-align: top;\n",
       "    }\n",
       "\n",
       "    .dataframe thead th {\n",
       "        text-align: right;\n",
       "    }\n",
       "</style>\n",
       "<table border=\"1\" class=\"dataframe\">\n",
       "  <thead>\n",
       "    <tr style=\"text-align: right;\">\n",
       "      <th></th>\n",
       "      <th>popularity</th>\n",
       "      <th>danceability</th>\n",
       "      <th>energy</th>\n",
       "      <th>acousticness</th>\n",
       "      <th>instrumentalness</th>\n",
       "      <th>speechiness</th>\n",
       "      <th>loudness</th>\n",
       "    </tr>\n",
       "  </thead>\n",
       "  <tbody>\n",
       "    <tr>\n",
       "      <th>135</th>\n",
       "      <td>1.237358</td>\n",
       "      <td>0.724</td>\n",
       "      <td>0.689</td>\n",
       "      <td>0.0830</td>\n",
       "      <td>-0.433980</td>\n",
       "      <td>0.1350</td>\n",
       "      <td>0.828010</td>\n",
       "    </tr>\n",
       "    <tr>\n",
       "      <th>136</th>\n",
       "      <td>1.117272</td>\n",
       "      <td>0.685</td>\n",
       "      <td>0.610</td>\n",
       "      <td>0.3230</td>\n",
       "      <td>-0.433980</td>\n",
       "      <td>0.0439</td>\n",
       "      <td>0.840483</td>\n",
       "    </tr>\n",
       "    <tr>\n",
       "      <th>137</th>\n",
       "      <td>1.057230</td>\n",
       "      <td>0.762</td>\n",
       "      <td>0.520</td>\n",
       "      <td>0.0675</td>\n",
       "      <td>-0.433966</td>\n",
       "      <td>0.0959</td>\n",
       "      <td>0.840199</td>\n",
       "    </tr>\n",
       "    <tr>\n",
       "      <th>138</th>\n",
       "      <td>0.997187</td>\n",
       "      <td>0.563</td>\n",
       "      <td>0.366</td>\n",
       "      <td>0.3600</td>\n",
       "      <td>-0.425042</td>\n",
       "      <td>0.1210</td>\n",
       "      <td>0.810680</td>\n",
       "    </tr>\n",
       "    <tr>\n",
       "      <th>139</th>\n",
       "      <td>1.417486</td>\n",
       "      <td>0.653</td>\n",
       "      <td>0.621</td>\n",
       "      <td>0.5960</td>\n",
       "      <td>-0.433980</td>\n",
       "      <td>0.0409</td>\n",
       "      <td>0.831587</td>\n",
       "    </tr>\n",
       "  </tbody>\n",
       "</table>\n",
       "</div>"
      ],
      "text/plain": [
       "     popularity  danceability  energy  acousticness  instrumentalness  \\\n",
       "135    1.237358         0.724   0.689        0.0830         -0.433980   \n",
       "136    1.117272         0.685   0.610        0.3230         -0.433980   \n",
       "137    1.057230         0.762   0.520        0.0675         -0.433966   \n",
       "138    0.997187         0.563   0.366        0.3600         -0.425042   \n",
       "139    1.417486         0.653   0.621        0.5960         -0.433980   \n",
       "\n",
       "     speechiness  loudness  \n",
       "135       0.1350  0.828010  \n",
       "136       0.0439  0.840483  \n",
       "137       0.0959  0.840199  \n",
       "138       0.1210  0.810680  \n",
       "139       0.0409  0.831587  "
      ]
     },
     "execution_count": 25,
     "metadata": {},
     "output_type": "execute_result"
    }
   ],
   "source": [
    "X.head()"
   ]
  },
  {
   "cell_type": "code",
   "execution_count": 26,
   "metadata": {
    "id": "IYu_AuRbMoym"
   },
   "outputs": [],
   "source": [
    "y=Data[['genre']]"
   ]
  },
  {
   "cell_type": "markdown",
   "metadata": {
    "id": "1K0LX17kfZ9d"
   },
   "source": [
    "# 学習データとテストデータの分割"
   ]
  },
  {
   "cell_type": "code",
   "execution_count": 27,
   "metadata": {
    "id": "pbHX2yt0P-Iv"
   },
   "outputs": [],
   "source": [
    "from sklearn.model_selection import train_test_split\n",
    "X_train,X_test,y_train,y_test=train_test_split(X,y,test_size=0.3,random_state=1)"
   ]
  },
  {
   "cell_type": "markdown",
   "metadata": {
    "id": "8Skf_sc-fZ9e"
   },
   "source": [
    "# ニューラルネットワークの実装"
   ]
  },
  {
   "cell_type": "code",
   "execution_count": 28,
   "metadata": {
    "id": "S5sV419UfZ9e"
   },
   "outputs": [],
   "source": [
    "from keras.models import Sequential\n",
    "from keras.layers import Dense, Activation,Dropout\n",
    "from tensorflow.keras.optimizers import Adam"
   ]
  },
  {
   "cell_type": "code",
   "execution_count": 29,
   "metadata": {
    "id": "mufnw0R6N0hU"
   },
   "outputs": [],
   "source": [
    "model=Sequential()\n",
    "model.add(Dense(256,activation='relu',input_shape=(len(X.columns),),kernel_initializer=TruncatedNormal(stddev=0.01)))\n",
    "model.add(Dropout(0.5))\n",
    "model.add(Dense(256,activation='relu'))\n",
    "model.add(Dropout(0.5))\n",
    "model.add(Dense(256,activation='relu'))\n",
    "model.add(Dropout(0.5))\n",
    "model.add(Dense(y['genre'].max()+1,activation='softmax'))"
   ]
  },
  {
   "cell_type": "code",
   "execution_count": 30,
   "metadata": {
    "colab": {
     "base_uri": "https://localhost:8080/"
    },
    "executionInfo": {
     "elapsed": 8,
     "status": "ok",
     "timestamp": 1661472913506,
     "user": {
      "displayName": "山下穂乃花",
      "userId": "10272557550954922568"
     },
     "user_tz": -540
    },
    "id": "Kal7sbxnQkV0",
    "outputId": "87f66e3c-af99-47d6-f168-601b334a9a26"
   },
   "outputs": [
    {
     "name": "stdout",
     "output_type": "stream",
     "text": [
      "Model: \"sequential\"\n",
      "_________________________________________________________________\n",
      "Layer (type)                 Output Shape              Param #   \n",
      "=================================================================\n",
      "dense (Dense)                (None, 256)               2048      \n",
      "_________________________________________________________________\n",
      "dropout (Dropout)            (None, 256)               0         \n",
      "_________________________________________________________________\n",
      "dense_1 (Dense)              (None, 256)               65792     \n",
      "_________________________________________________________________\n",
      "dropout_1 (Dropout)          (None, 256)               0         \n",
      "_________________________________________________________________\n",
      "dense_2 (Dense)              (None, 256)               65792     \n",
      "_________________________________________________________________\n",
      "dropout_2 (Dropout)          (None, 256)               0         \n",
      "_________________________________________________________________\n",
      "dense_3 (Dense)              (None, 5)                 1285      \n",
      "=================================================================\n",
      "Total params: 134,917\n",
      "Trainable params: 134,917\n",
      "Non-trainable params: 0\n",
      "_________________________________________________________________\n"
     ]
    }
   ],
   "source": [
    "model.summary()"
   ]
  },
  {
   "cell_type": "code",
   "execution_count": 31,
   "metadata": {
    "id": "lXGSVxFcfZ9f"
   },
   "outputs": [],
   "source": [
    "opt = Adam(lr = 0.0005)"
   ]
  },
  {
   "cell_type": "code",
   "execution_count": 32,
   "metadata": {
    "id": "bD1u0pOmTR7r"
   },
   "outputs": [],
   "source": [
    "model.compile(\n",
    "  loss = 'sparse_categorical_crossentropy',\n",
    "  optimizer = opt,\n",
    "  metrics=[\"accuracy\"],\n",
    ")"
   ]
  },
  {
   "cell_type": "code",
   "execution_count": 33,
   "metadata": {
    "colab": {
     "base_uri": "https://localhost:8080/"
    },
    "executionInfo": {
     "elapsed": 2783,
     "status": "ok",
     "timestamp": 1661472939558,
     "user": {
      "displayName": "山下穂乃花",
      "userId": "10272557550954922568"
     },
     "user_tz": -540
    },
    "id": "c5JnwuFhlHFj",
    "outputId": "234be4e7-f049-4f96-f87e-ba82d004fde3"
   },
   "outputs": [
    {
     "data": {
      "text/plain": [
       "<tensorflow.python.training.tracking.util.CheckpointLoadStatus at 0x2eea75b59a0>"
      ]
     },
     "execution_count": 33,
     "metadata": {},
     "output_type": "execute_result"
    }
   ],
   "source": [
    "model.load_weights('./checkpoints/checkpoint')"
   ]
  },
  {
   "cell_type": "markdown",
   "metadata": {
    "id": "mad4f2TKfZ9f"
   },
   "source": [
    "# 学習"
   ]
  },
  {
   "cell_type": "code",
   "execution_count": null,
   "metadata": {
    "colab": {
     "base_uri": "https://localhost:8080/"
    },
    "id": "5dbpiuI6TZyc",
    "outputId": "98854e23-1cb2-495e-97a7-7baaa20c809d",
    "scrolled": true
   },
   "outputs": [
    {
     "name": "stdout",
     "output_type": "stream",
     "text": [
      "Epoch 1/400\n",
      "127/127 [==============================] - 2s 13ms/step - loss: 1.2311 - accuracy: 0.4947\n",
      "Epoch 2/400\n",
      "127/127 [==============================] - 2s 13ms/step - loss: 1.0720 - accuracy: 0.5689\n",
      "Epoch 3/400\n",
      "127/127 [==============================] - 2s 14ms/step - loss: 1.0429 - accuracy: 0.5806\n",
      "Epoch 4/400\n",
      "127/127 [==============================] - 2s 13ms/step - loss: 1.0230 - accuracy: 0.5899\n",
      "Epoch 5/400\n",
      "127/127 [==============================] - 2s 13ms/step - loss: 1.0087 - accuracy: 0.5966\n",
      "Epoch 6/400\n",
      "127/127 [==============================] - 2s 13ms/step - loss: 1.0011 - accuracy: 0.5999\n",
      "Epoch 7/400\n",
      "127/127 [==============================] - 2s 13ms/step - loss: 0.9944 - accuracy: 0.6018\n",
      "Epoch 8/400\n",
      "127/127 [==============================] - 2s 13ms/step - loss: 0.9876 - accuracy: 0.6037\n",
      "Epoch 9/400\n",
      "127/127 [==============================] - 2s 13ms/step - loss: 0.9844 - accuracy: 0.6048\n",
      "Epoch 10/400\n",
      "127/127 [==============================] - 2s 13ms/step - loss: 0.9795 - accuracy: 0.6066\n",
      "Epoch 11/400\n",
      "127/127 [==============================] - 2s 13ms/step - loss: 0.9762 - accuracy: 0.6094\n",
      "Epoch 12/400\n",
      "127/127 [==============================] - 2s 13ms/step - loss: 0.9723 - accuracy: 0.6093\n",
      "Epoch 13/400\n",
      "127/127 [==============================] - 2s 13ms/step - loss: 0.9720 - accuracy: 0.6092\n",
      "Epoch 14/400\n",
      "127/127 [==============================] - 2s 13ms/step - loss: 0.9686 - accuracy: 0.6107\n",
      "Epoch 15/400\n",
      "127/127 [==============================] - 2s 14ms/step - loss: 0.9669 - accuracy: 0.6120\n",
      "Epoch 16/400\n",
      "127/127 [==============================] - 2s 13ms/step - loss: 0.9651 - accuracy: 0.6113\n",
      "Epoch 17/400\n",
      "127/127 [==============================] - 2s 13ms/step - loss: 0.9644 - accuracy: 0.6123\n",
      "Epoch 18/400\n",
      "127/127 [==============================] - 2s 13ms/step - loss: 0.9621 - accuracy: 0.6124\n",
      "Epoch 19/400\n",
      "127/127 [==============================] - 2s 13ms/step - loss: 0.9603 - accuracy: 0.6133\n",
      "Epoch 20/400\n",
      "127/127 [==============================] - 2s 13ms/step - loss: 0.9592 - accuracy: 0.6145\n",
      "Epoch 21/400\n",
      "127/127 [==============================] - 2s 13ms/step - loss: 0.9566 - accuracy: 0.6148\n",
      "Epoch 22/400\n",
      "127/127 [==============================] - 2s 13ms/step - loss: 0.9560 - accuracy: 0.6155\n",
      "Epoch 23/400\n",
      "127/127 [==============================] - 2s 13ms/step - loss: 0.9550 - accuracy: 0.6150\n",
      "Epoch 24/400\n",
      "127/127 [==============================] - 2s 13ms/step - loss: 0.9538 - accuracy: 0.6157\n",
      "Epoch 25/400\n",
      "127/127 [==============================] - 2s 13ms/step - loss: 0.9529 - accuracy: 0.6166\n",
      "Epoch 26/400\n",
      "127/127 [==============================] - 2s 13ms/step - loss: 0.9516 - accuracy: 0.6162\n",
      "Epoch 27/400\n",
      "127/127 [==============================] - 2s 13ms/step - loss: 0.9514 - accuracy: 0.6167\n",
      "Epoch 28/400\n",
      "127/127 [==============================] - 2s 13ms/step - loss: 0.9493 - accuracy: 0.6175\n",
      "Epoch 29/400\n",
      "127/127 [==============================] - 2s 13ms/step - loss: 0.9482 - accuracy: 0.6177\n",
      "Epoch 30/400\n",
      "127/127 [==============================] - 2s 13ms/step - loss: 0.9482 - accuracy: 0.6182\n",
      "Epoch 31/400\n",
      "127/127 [==============================] - 2s 13ms/step - loss: 0.9486 - accuracy: 0.6181\n",
      "Epoch 32/400\n",
      "127/127 [==============================] - 2s 13ms/step - loss: 0.9453 - accuracy: 0.6200\n",
      "Epoch 33/400\n",
      "127/127 [==============================] - 2s 13ms/step - loss: 0.9459 - accuracy: 0.6198\n",
      "Epoch 34/400\n",
      "127/127 [==============================] - 2s 13ms/step - loss: 0.9451 - accuracy: 0.6209\n",
      "Epoch 35/400\n",
      "127/127 [==============================] - 2s 13ms/step - loss: 0.9444 - accuracy: 0.6190\n",
      "Epoch 36/400\n",
      "127/127 [==============================] - 2s 13ms/step - loss: 0.9432 - accuracy: 0.6207\n",
      "Epoch 37/400\n",
      "127/127 [==============================] - 2s 13ms/step - loss: 0.9425 - accuracy: 0.6200\n",
      "Epoch 38/400\n",
      "127/127 [==============================] - 2s 13ms/step - loss: 0.9421 - accuracy: 0.6199\n",
      "Epoch 39/400\n",
      "127/127 [==============================] - 2s 13ms/step - loss: 0.9413 - accuracy: 0.6212\n",
      "Epoch 40/400\n",
      "127/127 [==============================] - 2s 13ms/step - loss: 0.9404 - accuracy: 0.6208\n",
      "Epoch 41/400\n",
      "127/127 [==============================] - 2s 13ms/step - loss: 0.9402 - accuracy: 0.6217\n",
      "Epoch 42/400\n",
      "127/127 [==============================] - 2s 13ms/step - loss: 0.9374 - accuracy: 0.6227\n",
      "Epoch 43/400\n",
      "127/127 [==============================] - 2s 13ms/step - loss: 0.9392 - accuracy: 0.6214\n",
      "Epoch 44/400\n",
      "127/127 [==============================] - 2s 13ms/step - loss: 0.9392 - accuracy: 0.6217\n",
      "Epoch 45/400\n",
      "127/127 [==============================] - 2s 13ms/step - loss: 0.9387 - accuracy: 0.6216\n",
      "Epoch 46/400\n",
      "127/127 [==============================] - 2s 13ms/step - loss: 0.9371 - accuracy: 0.6227\n",
      "Epoch 47/400\n",
      "127/127 [==============================] - 2s 13ms/step - loss: 0.9379 - accuracy: 0.6219\n",
      "Epoch 48/400\n",
      "127/127 [==============================] - 2s 14ms/step - loss: 0.9374 - accuracy: 0.6225\n",
      "Epoch 49/400\n",
      "127/127 [==============================] - 2s 16ms/step - loss: 0.9362 - accuracy: 0.6225\n",
      "Epoch 50/400\n",
      "127/127 [==============================] - 2s 13ms/step - loss: 0.9365 - accuracy: 0.6239\n",
      "Epoch 51/400\n",
      "127/127 [==============================] - 2s 13ms/step - loss: 0.9358 - accuracy: 0.6216\n",
      "Epoch 52/400\n",
      "127/127 [==============================] - 2s 13ms/step - loss: 0.9364 - accuracy: 0.6222\n",
      "Epoch 53/400\n",
      "127/127 [==============================] - 2s 13ms/step - loss: 0.9331 - accuracy: 0.6254\n",
      "Epoch 54/400\n",
      "127/127 [==============================] - 2s 13ms/step - loss: 0.9336 - accuracy: 0.6242\n",
      "Epoch 55/400\n",
      "127/127 [==============================] - 2s 13ms/step - loss: 0.9327 - accuracy: 0.6247\n",
      "Epoch 56/400\n",
      "127/127 [==============================] - 2s 13ms/step - loss: 0.9335 - accuracy: 0.6246\n",
      "Epoch 57/400\n",
      "127/127 [==============================] - 2s 13ms/step - loss: 0.9327 - accuracy: 0.6251\n",
      "Epoch 58/400\n",
      "127/127 [==============================] - 2s 13ms/step - loss: 0.9338 - accuracy: 0.6246\n",
      "Epoch 59/400\n",
      "127/127 [==============================] - 2s 13ms/step - loss: 0.9330 - accuracy: 0.6239\n",
      "Epoch 60/400\n",
      "127/127 [==============================] - 2s 13ms/step - loss: 0.9312 - accuracy: 0.6242\n",
      "Epoch 61/400\n",
      "127/127 [==============================] - 2s 13ms/step - loss: 0.9316 - accuracy: 0.6246\n",
      "Epoch 62/400\n",
      "127/127 [==============================] - 2s 13ms/step - loss: 0.9315 - accuracy: 0.6252\n",
      "Epoch 63/400\n",
      "127/127 [==============================] - 2s 13ms/step - loss: 0.9314 - accuracy: 0.6255\n",
      "Epoch 64/400\n",
      "127/127 [==============================] - 2s 13ms/step - loss: 0.9313 - accuracy: 0.6260\n",
      "Epoch 65/400\n",
      "127/127 [==============================] - 2s 13ms/step - loss: 0.9312 - accuracy: 0.6247\n",
      "Epoch 66/400\n",
      "127/127 [==============================] - 2s 13ms/step - loss: 0.9301 - accuracy: 0.6256\n",
      "Epoch 67/400\n",
      "127/127 [==============================] - 2s 13ms/step - loss: 0.9308 - accuracy: 0.6250\n",
      "Epoch 68/400\n",
      "127/127 [==============================] - 2s 13ms/step - loss: 0.9297 - accuracy: 0.6250\n",
      "Epoch 69/400\n",
      "127/127 [==============================] - 2s 13ms/step - loss: 0.9292 - accuracy: 0.6259\n",
      "Epoch 70/400\n",
      "127/127 [==============================] - 2s 13ms/step - loss: 0.9298 - accuracy: 0.6260\n",
      "Epoch 71/400\n",
      "127/127 [==============================] - 2s 13ms/step - loss: 0.9285 - accuracy: 0.6264\n",
      "Epoch 72/400\n",
      "127/127 [==============================] - 2s 13ms/step - loss: 0.9284 - accuracy: 0.6264\n",
      "Epoch 73/400\n",
      "127/127 [==============================] - 2s 13ms/step - loss: 0.9282 - accuracy: 0.6261\n",
      "Epoch 74/400\n",
      "127/127 [==============================] - 2s 13ms/step - loss: 0.9287 - accuracy: 0.6261\n",
      "Epoch 75/400\n",
      "127/127 [==============================] - 2s 13ms/step - loss: 0.9290 - accuracy: 0.6249\n",
      "Epoch 76/400\n",
      "127/127 [==============================] - 2s 13ms/step - loss: 0.9279 - accuracy: 0.6263\n",
      "Epoch 77/400\n",
      "127/127 [==============================] - 2s 13ms/step - loss: 0.9271 - accuracy: 0.6267\n",
      "Epoch 78/400\n",
      "127/127 [==============================] - 2s 13ms/step - loss: 0.9280 - accuracy: 0.6260\n",
      "Epoch 79/400\n",
      "127/127 [==============================] - 2s 13ms/step - loss: 0.9264 - accuracy: 0.6274\n",
      "Epoch 80/400\n",
      "127/127 [==============================] - 2s 13ms/step - loss: 0.9276 - accuracy: 0.6270\n",
      "Epoch 81/400\n",
      "127/127 [==============================] - 2s 12ms/step - loss: 0.9264 - accuracy: 0.6269\n",
      "Epoch 82/400\n",
      "127/127 [==============================] - 2s 12ms/step - loss: 0.9262 - accuracy: 0.6260\n",
      "Epoch 83/400\n",
      "127/127 [==============================] - 2s 12ms/step - loss: 0.9276 - accuracy: 0.6267\n",
      "Epoch 84/400\n",
      "127/127 [==============================] - 2s 12ms/step - loss: 0.9266 - accuracy: 0.6281\n",
      "Epoch 85/400\n",
      "127/127 [==============================] - 2s 12ms/step - loss: 0.9263 - accuracy: 0.6283\n",
      "Epoch 86/400\n",
      "127/127 [==============================] - 2s 12ms/step - loss: 0.9251 - accuracy: 0.6262\n",
      "Epoch 87/400\n",
      "127/127 [==============================] - 2s 12ms/step - loss: 0.9258 - accuracy: 0.6281\n",
      "Epoch 88/400\n",
      "127/127 [==============================] - 2s 12ms/step - loss: 0.9243 - accuracy: 0.6283\n",
      "Epoch 89/400\n",
      "127/127 [==============================] - 2s 12ms/step - loss: 0.9253 - accuracy: 0.6276\n",
      "Epoch 90/400\n",
      "127/127 [==============================] - 2s 12ms/step - loss: 0.9234 - accuracy: 0.6289\n",
      "Epoch 91/400\n",
      "127/127 [==============================] - 2s 12ms/step - loss: 0.9282 - accuracy: 0.6259\n",
      "Epoch 92/400\n",
      "127/127 [==============================] - 2s 12ms/step - loss: 0.9253 - accuracy: 0.6268\n",
      "Epoch 93/400\n",
      "127/127 [==============================] - 2s 13ms/step - loss: 0.9252 - accuracy: 0.6271\n",
      "Epoch 94/400\n",
      "127/127 [==============================] - 2s 13ms/step - loss: 0.9247 - accuracy: 0.6274\n",
      "Epoch 95/400\n",
      "127/127 [==============================] - 2s 13ms/step - loss: 0.9251 - accuracy: 0.6269\n",
      "Epoch 96/400\n",
      "127/127 [==============================] - 2s 13ms/step - loss: 0.9258 - accuracy: 0.6268\n",
      "Epoch 97/400\n",
      "127/127 [==============================] - 2s 13ms/step - loss: 0.9260 - accuracy: 0.6280\n",
      "Epoch 98/400\n",
      "127/127 [==============================] - 2s 13ms/step - loss: 0.9260 - accuracy: 0.6273\n",
      "Epoch 99/400\n",
      "127/127 [==============================] - 2s 13ms/step - loss: 0.9242 - accuracy: 0.6271\n",
      "Epoch 100/400\n",
      "127/127 [==============================] - 2s 13ms/step - loss: 0.9233 - accuracy: 0.6271\n",
      "Epoch 101/400\n",
      "127/127 [==============================] - 2s 13ms/step - loss: 0.9232 - accuracy: 0.6273\n",
      "Epoch 102/400\n",
      "127/127 [==============================] - 2s 13ms/step - loss: 0.9240 - accuracy: 0.6279\n",
      "Epoch 103/400\n",
      "127/127 [==============================] - 2s 13ms/step - loss: 0.9229 - accuracy: 0.6283\n",
      "Epoch 104/400\n",
      "127/127 [==============================] - 2s 13ms/step - loss: 0.9234 - accuracy: 0.6286\n",
      "Epoch 105/400\n",
      "127/127 [==============================] - 2s 13ms/step - loss: 0.9232 - accuracy: 0.6276\n",
      "Epoch 106/400\n",
      "127/127 [==============================] - 2s 13ms/step - loss: 0.9223 - accuracy: 0.6278\n",
      "Epoch 107/400\n",
      "127/127 [==============================] - 2s 13ms/step - loss: 0.9227 - accuracy: 0.6281\n",
      "Epoch 108/400\n",
      "127/127 [==============================] - 2s 13ms/step - loss: 0.9236 - accuracy: 0.6287\n",
      "Epoch 109/400\n",
      "127/127 [==============================] - 2s 13ms/step - loss: 0.9229 - accuracy: 0.6281\n",
      "Epoch 110/400\n",
      "127/127 [==============================] - 2s 13ms/step - loss: 0.9220 - accuracy: 0.6276\n",
      "Epoch 111/400\n",
      "127/127 [==============================] - 2s 13ms/step - loss: 0.9212 - accuracy: 0.6301\n",
      "Epoch 112/400\n",
      "127/127 [==============================] - 2s 13ms/step - loss: 0.9217 - accuracy: 0.6293\n",
      "Epoch 113/400\n",
      "127/127 [==============================] - 2s 13ms/step - loss: 0.9225 - accuracy: 0.6285\n",
      "Epoch 114/400\n",
      "127/127 [==============================] - 2s 13ms/step - loss: 0.9223 - accuracy: 0.6278\n",
      "Epoch 115/400\n",
      "127/127 [==============================] - 2s 13ms/step - loss: 0.9214 - accuracy: 0.6297\n",
      "Epoch 116/400\n",
      "127/127 [==============================] - 2s 14ms/step - loss: 0.9216 - accuracy: 0.6292\n",
      "Epoch 117/400\n",
      "127/127 [==============================] - 2s 14ms/step - loss: 0.9218 - accuracy: 0.6294\n",
      "Epoch 118/400\n",
      "127/127 [==============================] - 2s 14ms/step - loss: 0.9221 - accuracy: 0.6288\n",
      "Epoch 119/400\n",
      "127/127 [==============================] - 2s 13ms/step - loss: 0.9218 - accuracy: 0.6280\n",
      "Epoch 120/400\n",
      "127/127 [==============================] - 2s 12ms/step - loss: 0.9203 - accuracy: 0.6282\n",
      "Epoch 121/400\n",
      "127/127 [==============================] - 2s 12ms/step - loss: 0.9210 - accuracy: 0.6290\n",
      "Epoch 122/400\n",
      "127/127 [==============================] - 2s 12ms/step - loss: 0.9215 - accuracy: 0.6284\n",
      "Epoch 123/400\n",
      "127/127 [==============================] - 2s 12ms/step - loss: 0.9218 - accuracy: 0.6291\n",
      "Epoch 124/400\n",
      "127/127 [==============================] - 2s 12ms/step - loss: 0.9207 - accuracy: 0.6281\n",
      "Epoch 125/400\n",
      "127/127 [==============================] - 2s 12ms/step - loss: 0.9211 - accuracy: 0.6282\n",
      "Epoch 126/400\n",
      "127/127 [==============================] - 2s 12ms/step - loss: 0.9206 - accuracy: 0.6303\n",
      "Epoch 127/400\n",
      "127/127 [==============================] - 2s 12ms/step - loss: 0.9217 - accuracy: 0.6276\n",
      "Epoch 128/400\n",
      "127/127 [==============================] - 2s 12ms/step - loss: 0.9204 - accuracy: 0.6304\n",
      "Epoch 129/400\n",
      "127/127 [==============================] - 2s 13ms/step - loss: 0.9215 - accuracy: 0.6288\n",
      "Epoch 130/400\n",
      "127/127 [==============================] - 2s 13ms/step - loss: 0.9203 - accuracy: 0.6292\n",
      "Epoch 131/400\n",
      "127/127 [==============================] - 2s 13ms/step - loss: 0.9202 - accuracy: 0.6297\n",
      "Epoch 132/400\n",
      "127/127 [==============================] - 2s 12ms/step - loss: 0.9199 - accuracy: 0.6296\n",
      "Epoch 133/400\n",
      "127/127 [==============================] - 2s 12ms/step - loss: 0.9192 - accuracy: 0.6296\n",
      "Epoch 134/400\n",
      "127/127 [==============================] - 2s 12ms/step - loss: 0.9200 - accuracy: 0.6294\n",
      "Epoch 135/400\n",
      "127/127 [==============================] - 2s 12ms/step - loss: 0.9195 - accuracy: 0.6298\n",
      "Epoch 136/400\n",
      "127/127 [==============================] - 2s 13ms/step - loss: 0.9199 - accuracy: 0.6288\n",
      "Epoch 137/400\n",
      "127/127 [==============================] - 2s 13ms/step - loss: 0.9196 - accuracy: 0.6295\n",
      "Epoch 138/400\n",
      "127/127 [==============================] - 2s 14ms/step - loss: 0.9195 - accuracy: 0.6297\n",
      "Epoch 139/400\n",
      "127/127 [==============================] - 2s 12ms/step - loss: 0.9198 - accuracy: 0.6290\n",
      "Epoch 140/400\n",
      "127/127 [==============================] - 2s 12ms/step - loss: 0.9186 - accuracy: 0.6301\n",
      "Epoch 141/400\n",
      "127/127 [==============================] - 2s 12ms/step - loss: 0.9188 - accuracy: 0.6291\n",
      "Epoch 142/400\n",
      "127/127 [==============================] - 2s 12ms/step - loss: 0.9186 - accuracy: 0.6303\n",
      "Epoch 143/400\n",
      "127/127 [==============================] - 2s 12ms/step - loss: 0.9195 - accuracy: 0.6294\n",
      "Epoch 144/400\n",
      "127/127 [==============================] - 2s 12ms/step - loss: 0.9189 - accuracy: 0.6303\n",
      "Epoch 145/400\n",
      "127/127 [==============================] - 2s 12ms/step - loss: 0.9187 - accuracy: 0.6304\n",
      "Epoch 146/400\n",
      "127/127 [==============================] - 2s 12ms/step - loss: 0.9208 - accuracy: 0.6300\n",
      "Epoch 147/400\n",
      "127/127 [==============================] - 2s 14ms/step - loss: 0.9193 - accuracy: 0.6298\n",
      "Epoch 148/400\n",
      "127/127 [==============================] - 2s 13ms/step - loss: 0.9196 - accuracy: 0.6286\n",
      "Epoch 149/400\n",
      "127/127 [==============================] - 2s 14ms/step - loss: 0.9191 - accuracy: 0.6293\n",
      "Epoch 150/400\n",
      "127/127 [==============================] - 2s 13ms/step - loss: 0.9198 - accuracy: 0.6303\n",
      "Epoch 151/400\n",
      "127/127 [==============================] - 2s 13ms/step - loss: 0.9194 - accuracy: 0.6293\n",
      "Epoch 152/400\n",
      "127/127 [==============================] - 2s 14ms/step - loss: 0.9186 - accuracy: 0.6293\n",
      "Epoch 153/400\n",
      "127/127 [==============================] - 2s 14ms/step - loss: 0.9192 - accuracy: 0.6297\n",
      "Epoch 154/400\n",
      "127/127 [==============================] - 2s 14ms/step - loss: 0.9177 - accuracy: 0.6298\n",
      "Epoch 155/400\n",
      "127/127 [==============================] - 2s 14ms/step - loss: 0.9174 - accuracy: 0.6296\n",
      "Epoch 156/400\n",
      "127/127 [==============================] - 2s 14ms/step - loss: 0.9185 - accuracy: 0.6295\n",
      "Epoch 157/400\n",
      "127/127 [==============================] - 2s 15ms/step - loss: 0.9173 - accuracy: 0.6298\n",
      "Epoch 158/400\n",
      "127/127 [==============================] - 2s 15ms/step - loss: 0.9174 - accuracy: 0.6298\n",
      "Epoch 159/400\n"
     ]
    },
    {
     "name": "stdout",
     "output_type": "stream",
     "text": [
      "127/127 [==============================] - 2s 16ms/step - loss: 0.9174 - accuracy: 0.6297\n",
      "Epoch 160/400\n",
      "127/127 [==============================] - 2s 16ms/step - loss: 0.9178 - accuracy: 0.6302\n",
      "Epoch 161/400\n",
      "127/127 [==============================] - 2s 16ms/step - loss: 0.9158 - accuracy: 0.6301\n",
      "Epoch 162/400\n",
      "127/127 [==============================] - 2s 16ms/step - loss: 0.9174 - accuracy: 0.6306\n",
      "Epoch 163/400\n",
      "127/127 [==============================] - 2s 15ms/step - loss: 0.9173 - accuracy: 0.6303\n",
      "Epoch 164/400\n",
      "127/127 [==============================] - 2s 15ms/step - loss: 0.9166 - accuracy: 0.6312\n",
      "Epoch 165/400\n",
      "127/127 [==============================] - 2s 16ms/step - loss: 0.9179 - accuracy: 0.6302\n",
      "Epoch 166/400\n",
      "127/127 [==============================] - 2s 16ms/step - loss: 0.9168 - accuracy: 0.6315\n",
      "Epoch 167/400\n",
      "127/127 [==============================] - 2s 15ms/step - loss: 0.9171 - accuracy: 0.6305\n",
      "Epoch 168/400\n",
      "127/127 [==============================] - 2s 16ms/step - loss: 0.9158 - accuracy: 0.6310\n",
      "Epoch 169/400\n",
      "127/127 [==============================] - 2s 15ms/step - loss: 0.9161 - accuracy: 0.6299\n",
      "Epoch 170/400\n",
      "127/127 [==============================] - 2s 14ms/step - loss: 0.9176 - accuracy: 0.6307\n",
      "Epoch 171/400\n",
      "127/127 [==============================] - 2s 15ms/step - loss: 0.9157 - accuracy: 0.6307\n",
      "Epoch 172/400\n",
      "127/127 [==============================] - 2s 15ms/step - loss: 0.9155 - accuracy: 0.6310\n",
      "Epoch 173/400\n",
      "127/127 [==============================] - 2s 15ms/step - loss: 0.9165 - accuracy: 0.6306\n",
      "Epoch 174/400\n",
      "127/127 [==============================] - 2s 15ms/step - loss: 0.9168 - accuracy: 0.6302\n",
      "Epoch 175/400\n",
      "127/127 [==============================] - 2s 15ms/step - loss: 0.9167 - accuracy: 0.6295\n",
      "Epoch 176/400\n",
      "127/127 [==============================] - 2s 16ms/step - loss: 0.9163 - accuracy: 0.6315\n",
      "Epoch 177/400\n",
      "127/127 [==============================] - 2s 15ms/step - loss: 0.9175 - accuracy: 0.6297\n",
      "Epoch 178/400\n",
      "127/127 [==============================] - 2s 15ms/step - loss: 0.9156 - accuracy: 0.6308\n",
      "Epoch 179/400\n",
      "127/127 [==============================] - 2s 15ms/step - loss: 0.9170 - accuracy: 0.6307\n",
      "Epoch 180/400\n",
      "127/127 [==============================] - 2s 15ms/step - loss: 0.9159 - accuracy: 0.6315\n",
      "Epoch 181/400\n",
      "127/127 [==============================] - 2s 15ms/step - loss: 0.9165 - accuracy: 0.6314\n",
      "Epoch 182/400\n",
      "127/127 [==============================] - 2s 15ms/step - loss: 0.9161 - accuracy: 0.6305\n",
      "Epoch 183/400\n",
      "127/127 [==============================] - 2s 16ms/step - loss: 0.9156 - accuracy: 0.6307\n",
      "Epoch 184/400\n",
      "127/127 [==============================] - 2s 17ms/step - loss: 0.9163 - accuracy: 0.6308\n",
      "Epoch 185/400\n",
      "127/127 [==============================] - 2s 16ms/step - loss: 0.9163 - accuracy: 0.6311\n",
      "Epoch 186/400\n",
      "127/127 [==============================] - 2s 15ms/step - loss: 0.9151 - accuracy: 0.6319\n",
      "Epoch 187/400\n",
      "127/127 [==============================] - 2s 16ms/step - loss: 0.9157 - accuracy: 0.6309\n",
      "Epoch 188/400\n",
      "127/127 [==============================] - 2s 17ms/step - loss: 0.9163 - accuracy: 0.6292\n",
      "Epoch 189/400\n",
      "127/127 [==============================] - 2s 18ms/step - loss: 0.9149 - accuracy: 0.6313\n",
      "Epoch 190/400\n",
      "127/127 [==============================] - 2s 16ms/step - loss: 0.9155 - accuracy: 0.6312\n",
      "Epoch 191/400\n",
      "127/127 [==============================] - 2s 15ms/step - loss: 0.9162 - accuracy: 0.6306\n",
      "Epoch 192/400\n",
      "127/127 [==============================] - 2s 15ms/step - loss: 0.9149 - accuracy: 0.6310\n",
      "Epoch 193/400\n",
      "127/127 [==============================] - 2s 15ms/step - loss: 0.9165 - accuracy: 0.6304\n",
      "Epoch 194/400\n",
      "127/127 [==============================] - 2s 15ms/step - loss: 0.9151 - accuracy: 0.6321\n",
      "Epoch 195/400\n",
      "127/127 [==============================] - 2s 15ms/step - loss: 0.9148 - accuracy: 0.6301\n",
      "Epoch 196/400\n",
      "127/127 [==============================] - 2s 15ms/step - loss: 0.9154 - accuracy: 0.6314\n",
      "Epoch 197/400\n",
      "127/127 [==============================] - 2s 15ms/step - loss: 0.9145 - accuracy: 0.6315\n",
      "Epoch 198/400\n",
      "127/127 [==============================] - 2s 15ms/step - loss: 0.9153 - accuracy: 0.6314\n",
      "Epoch 199/400\n",
      "127/127 [==============================] - 2s 15ms/step - loss: 0.9155 - accuracy: 0.6297\n",
      "Epoch 200/400\n",
      "127/127 [==============================] - 2s 15ms/step - loss: 0.9142 - accuracy: 0.6310\n",
      "Epoch 201/400\n",
      "127/127 [==============================] - 2s 15ms/step - loss: 0.9162 - accuracy: 0.6304\n",
      "Epoch 202/400\n",
      "127/127 [==============================] - 2s 15ms/step - loss: 0.9155 - accuracy: 0.6303\n",
      "Epoch 203/400\n",
      "127/127 [==============================] - 2s 15ms/step - loss: 0.9145 - accuracy: 0.6306\n",
      "Epoch 204/400\n",
      "127/127 [==============================] - 2s 15ms/step - loss: 0.9139 - accuracy: 0.6308\n",
      "Epoch 205/400\n",
      "127/127 [==============================] - 2s 15ms/step - loss: 0.9151 - accuracy: 0.6321\n",
      "Epoch 206/400\n",
      "127/127 [==============================] - 2s 15ms/step - loss: 0.9148 - accuracy: 0.6314\n",
      "Epoch 207/400\n",
      "127/127 [==============================] - 2s 15ms/step - loss: 0.9147 - accuracy: 0.6315\n",
      "Epoch 208/400\n",
      "127/127 [==============================] - 2s 16ms/step - loss: 0.9126 - accuracy: 0.6316\n",
      "Epoch 209/400\n",
      "127/127 [==============================] - 2s 17ms/step - loss: 0.9150 - accuracy: 0.6299\n",
      "Epoch 210/400\n",
      "127/127 [==============================] - 2s 16ms/step - loss: 0.9169 - accuracy: 0.6310\n",
      "Epoch 211/400\n",
      "127/127 [==============================] - 2s 16ms/step - loss: 0.9137 - accuracy: 0.6322\n",
      "Epoch 212/400\n",
      "127/127 [==============================] - 2s 15ms/step - loss: 0.9123 - accuracy: 0.6323\n",
      "Epoch 213/400\n",
      "127/127 [==============================] - 2s 16ms/step - loss: 0.9139 - accuracy: 0.6319\n",
      "Epoch 214/400\n",
      "127/127 [==============================] - 2s 17ms/step - loss: 0.9142 - accuracy: 0.6317\n",
      "Epoch 215/400\n",
      "127/127 [==============================] - 2s 16ms/step - loss: 0.9140 - accuracy: 0.6321\n",
      "Epoch 216/400\n",
      "127/127 [==============================] - 2s 17ms/step - loss: 0.9139 - accuracy: 0.6307\n",
      "Epoch 217/400\n",
      "127/127 [==============================] - 2s 17ms/step - loss: 0.9134 - accuracy: 0.6321\n",
      "Epoch 218/400\n",
      "127/127 [==============================] - 2s 16ms/step - loss: 0.9139 - accuracy: 0.6320\n",
      "Epoch 219/400\n",
      "127/127 [==============================] - 2s 16ms/step - loss: 0.9139 - accuracy: 0.6313\n",
      "Epoch 220/400\n",
      "127/127 [==============================] - 2s 16ms/step - loss: 0.9141 - accuracy: 0.6319\n",
      "Epoch 221/400\n",
      "127/127 [==============================] - 2s 18ms/step - loss: 0.9132 - accuracy: 0.6320\n",
      "Epoch 222/400\n",
      "127/127 [==============================] - 3s 21ms/step - loss: 0.9131 - accuracy: 0.6312\n",
      "Epoch 223/400\n",
      "127/127 [==============================] - 2s 16ms/step - loss: 0.9137 - accuracy: 0.6310\n",
      "Epoch 224/400\n",
      "127/127 [==============================] - 2s 19ms/step - loss: 0.9136 - accuracy: 0.6316\n",
      "Epoch 225/400\n",
      "127/127 [==============================] - 2s 17ms/step - loss: 0.9138 - accuracy: 0.6311\n",
      "Epoch 226/400\n",
      "127/127 [==============================] - 2s 16ms/step - loss: 0.9133 - accuracy: 0.6319\n",
      "Epoch 227/400\n",
      "127/127 [==============================] - 2s 16ms/step - loss: 0.9126 - accuracy: 0.6316\n",
      "Epoch 228/400\n",
      "127/127 [==============================] - 2s 18ms/step - loss: 0.9129 - accuracy: 0.6324\n",
      "Epoch 229/400\n",
      "127/127 [==============================] - 2s 18ms/step - loss: 0.9126 - accuracy: 0.6313\n",
      "Epoch 230/400\n",
      "127/127 [==============================] - 2s 16ms/step - loss: 0.9136 - accuracy: 0.6321\n",
      "Epoch 231/400\n",
      "127/127 [==============================] - 2s 17ms/step - loss: 0.9142 - accuracy: 0.6316\n",
      "Epoch 232/400\n",
      "127/127 [==============================] - 2s 17ms/step - loss: 0.9130 - accuracy: 0.6316\n",
      "Epoch 233/400\n",
      "127/127 [==============================] - 2s 17ms/step - loss: 0.9135 - accuracy: 0.6321\n",
      "Epoch 234/400\n",
      "127/127 [==============================] - 2s 17ms/step - loss: 0.9132 - accuracy: 0.6321\n",
      "Epoch 235/400\n",
      "127/127 [==============================] - 2s 19ms/step - loss: 0.9145 - accuracy: 0.6312\n",
      "Epoch 236/400\n",
      "127/127 [==============================] - 2s 17ms/step - loss: 0.9124 - accuracy: 0.6316\n",
      "Epoch 237/400\n",
      "127/127 [==============================] - 2s 16ms/step - loss: 0.9138 - accuracy: 0.6319\n",
      "Epoch 238/400\n",
      "127/127 [==============================] - 3s 21ms/step - loss: 0.9126 - accuracy: 0.6321\n",
      "Epoch 239/400\n",
      "127/127 [==============================] - 2s 17ms/step - loss: 0.9122 - accuracy: 0.6325\n",
      "Epoch 240/400\n",
      "127/127 [==============================] - 2s 19ms/step - loss: 0.9140 - accuracy: 0.6309\n",
      "Epoch 241/400\n",
      "127/127 [==============================] - 2s 18ms/step - loss: 0.9134 - accuracy: 0.6319\n",
      "Epoch 242/400\n",
      "127/127 [==============================] - 2s 18ms/step - loss: 0.9121 - accuracy: 0.6318\n",
      "Epoch 243/400\n",
      "127/127 [==============================] - 2s 19ms/step - loss: 0.9102 - accuracy: 0.6330\n",
      "Epoch 244/400\n",
      "127/127 [==============================] - 2s 17ms/step - loss: 0.9119 - accuracy: 0.6315\n",
      "Epoch 245/400\n",
      "127/127 [==============================] - 2s 18ms/step - loss: 0.9126 - accuracy: 0.6313\n",
      "Epoch 246/400\n",
      "127/127 [==============================] - 2s 16ms/step - loss: 0.9129 - accuracy: 0.6340\n",
      "Epoch 247/400\n",
      "127/127 [==============================] - 2s 16ms/step - loss: 0.9119 - accuracy: 0.6325\n",
      "Epoch 248/400\n",
      "127/127 [==============================] - 2s 16ms/step - loss: 0.9123 - accuracy: 0.6327\n",
      "Epoch 249/400\n",
      "127/127 [==============================] - 2s 15ms/step - loss: 0.9120 - accuracy: 0.6326\n",
      "Epoch 250/400\n",
      "127/127 [==============================] - 2s 16ms/step - loss: 0.9131 - accuracy: 0.6322\n",
      "Epoch 251/400\n",
      "127/127 [==============================] - 2s 15ms/step - loss: 0.9118 - accuracy: 0.6321\n",
      "Epoch 252/400\n",
      "127/127 [==============================] - 2s 16ms/step - loss: 0.9125 - accuracy: 0.6326\n",
      "Epoch 253/400\n",
      "127/127 [==============================] - 2s 15ms/step - loss: 0.9121 - accuracy: 0.6328\n",
      "Epoch 254/400\n",
      "127/127 [==============================] - 2s 15ms/step - loss: 0.9116 - accuracy: 0.6326\n",
      "Epoch 255/400\n",
      "127/127 [==============================] - 2s 16ms/step - loss: 0.9126 - accuracy: 0.6314\n",
      "Epoch 256/400\n",
      "127/127 [==============================] - 2s 19ms/step - loss: 0.9133 - accuracy: 0.6314\n",
      "Epoch 257/400\n",
      "127/127 [==============================] - 2s 19ms/step - loss: 0.9117 - accuracy: 0.6323\n",
      "Epoch 258/400\n",
      "127/127 [==============================] - 2s 17ms/step - loss: 0.9128 - accuracy: 0.6324\n",
      "Epoch 259/400\n",
      "127/127 [==============================] - 2s 17ms/step - loss: 0.9127 - accuracy: 0.6321\n",
      "Epoch 260/400\n",
      "127/127 [==============================] - 2s 17ms/step - loss: 0.9112 - accuracy: 0.6323\n",
      "Epoch 261/400\n",
      "127/127 [==============================] - 2s 17ms/step - loss: 0.9103 - accuracy: 0.6329\n",
      "Epoch 262/400\n",
      "127/127 [==============================] - 2s 17ms/step - loss: 0.9128 - accuracy: 0.6323\n",
      "Epoch 263/400\n",
      "127/127 [==============================] - 2s 16ms/step - loss: 0.9107 - accuracy: 0.6328\n",
      "Epoch 264/400\n",
      "127/127 [==============================] - 2s 16ms/step - loss: 0.9119 - accuracy: 0.6316 0s - loss: 0.9107 - accu\n",
      "Epoch 265/400\n",
      "127/127 [==============================] - 2s 16ms/step - loss: 0.9116 - accuracy: 0.6322\n",
      "Epoch 266/400\n",
      "127/127 [==============================] - 2s 17ms/step - loss: 0.9118 - accuracy: 0.6319\n",
      "Epoch 267/400\n",
      "127/127 [==============================] - 2s 16ms/step - loss: 0.9115 - accuracy: 0.6323\n",
      "Epoch 268/400\n",
      "127/127 [==============================] - 2s 16ms/step - loss: 0.9115 - accuracy: 0.6322\n",
      "Epoch 269/400\n",
      "127/127 [==============================] - 2s 17ms/step - loss: 0.9118 - accuracy: 0.6327\n",
      "Epoch 270/400\n",
      "127/127 [==============================] - 2s 17ms/step - loss: 0.9099 - accuracy: 0.6327\n",
      "Epoch 271/400\n",
      "127/127 [==============================] - 2s 16ms/step - loss: 0.9117 - accuracy: 0.6317\n",
      "Epoch 272/400\n",
      "127/127 [==============================] - 2s 16ms/step - loss: 0.9107 - accuracy: 0.6335\n",
      "Epoch 273/400\n",
      "127/127 [==============================] - 2s 16ms/step - loss: 0.9120 - accuracy: 0.6325\n",
      "Epoch 274/400\n",
      "127/127 [==============================] - 2s 17ms/step - loss: 0.9115 - accuracy: 0.6315\n",
      "Epoch 275/400\n",
      "127/127 [==============================] - 2s 17ms/step - loss: 0.9110 - accuracy: 0.6328\n",
      "Epoch 276/400\n",
      "127/127 [==============================] - 2s 16ms/step - loss: 0.9123 - accuracy: 0.6326\n",
      "Epoch 277/400\n",
      "127/127 [==============================] - 3s 21ms/step - loss: 0.9108 - accuracy: 0.6334\n",
      "Epoch 278/400\n",
      "127/127 [==============================] - 3s 22ms/step - loss: 0.9101 - accuracy: 0.6329\n",
      "Epoch 279/400\n",
      "127/127 [==============================] - 3s 22ms/step - loss: 0.9119 - accuracy: 0.6314 0s - loss: 0.9109 - accuracy:  - ETA: 0s - loss: 0.9113 - accuracy\n",
      "Epoch 280/400\n",
      "127/127 [==============================] - 3s 20ms/step - loss: 0.9094 - accuracy: 0.6326\n",
      "Epoch 281/400\n",
      "127/127 [==============================] - 2s 19ms/step - loss: 0.9109 - accuracy: 0.6337\n",
      "Epoch 282/400\n",
      "127/127 [==============================] - 2s 16ms/step - loss: 0.9103 - accuracy: 0.6326\n",
      "Epoch 283/400\n",
      "127/127 [==============================] - 2s 16ms/step - loss: 0.9109 - accuracy: 0.6328 0s - loss: 0.9108 - accuracy: 0.63\n",
      "Epoch 284/400\n",
      "127/127 [==============================] - 2s 20ms/step - loss: 0.9103 - accuracy: 0.6324\n",
      "Epoch 285/400\n",
      "127/127 [==============================] - 2s 19ms/step - loss: 0.9115 - accuracy: 0.6318\n",
      "Epoch 286/400\n",
      "127/127 [==============================] - 2s 15ms/step - loss: 0.9114 - accuracy: 0.6332\n",
      "Epoch 287/400\n",
      "127/127 [==============================] - 2s 20ms/step - loss: 0.9104 - accuracy: 0.6333\n",
      "Epoch 288/400\n",
      "127/127 [==============================] - 2s 19ms/step - loss: 0.9119 - accuracy: 0.6330\n",
      "Epoch 289/400\n",
      "127/127 [==============================] - 3s 21ms/step - loss: 0.9111 - accuracy: 0.6333\n",
      "Epoch 290/400\n",
      "127/127 [==============================] - 3s 20ms/step - loss: 0.9105 - accuracy: 0.6330\n",
      "Epoch 291/400\n",
      "127/127 [==============================] - 3s 20ms/step - loss: 0.9108 - accuracy: 0.6325\n",
      "Epoch 292/400\n",
      "127/127 [==============================] - 2s 18ms/step - loss: 0.9108 - accuracy: 0.6325\n",
      "Epoch 293/400\n",
      "127/127 [==============================] - 2s 19ms/step - loss: 0.9108 - accuracy: 0.6328\n",
      "Epoch 294/400\n",
      "127/127 [==============================] - 2s 17ms/step - loss: 0.9095 - accuracy: 0.6336\n",
      "Epoch 295/400\n",
      "127/127 [==============================] - 2s 17ms/step - loss: 0.9113 - accuracy: 0.6328\n",
      "Epoch 296/400\n",
      "127/127 [==============================] - 2s 15ms/step - loss: 0.9102 - accuracy: 0.6323\n",
      "Epoch 297/400\n",
      "127/127 [==============================] - 2s 15ms/step - loss: 0.9101 - accuracy: 0.6332\n",
      "Epoch 298/400\n",
      "127/127 [==============================] - 2s 15ms/step - loss: 0.9102 - accuracy: 0.6334\n",
      "Epoch 299/400\n",
      "127/127 [==============================] - 2s 15ms/step - loss: 0.9104 - accuracy: 0.6325\n",
      "Epoch 300/400\n",
      "127/127 [==============================] - 2s 15ms/step - loss: 0.9095 - accuracy: 0.6323\n",
      "Epoch 301/400\n",
      "127/127 [==============================] - 2s 15ms/step - loss: 0.9108 - accuracy: 0.6329\n",
      "Epoch 302/400\n",
      "127/127 [==============================] - 2s 16ms/step - loss: 0.9108 - accuracy: 0.6331\n",
      "Epoch 303/400\n",
      "127/127 [==============================] - 2s 15ms/step - loss: 0.9088 - accuracy: 0.6339\n",
      "Epoch 304/400\n",
      "127/127 [==============================] - 2s 17ms/step - loss: 0.9096 - accuracy: 0.6333\n",
      "Epoch 305/400\n",
      "127/127 [==============================] - 2s 15ms/step - loss: 0.9100 - accuracy: 0.6326\n",
      "Epoch 306/400\n",
      "127/127 [==============================] - 2s 19ms/step - loss: 0.9103 - accuracy: 0.6330\n",
      "Epoch 307/400\n",
      "127/127 [==============================] - 2s 18ms/step - loss: 0.9085 - accuracy: 0.6337\n",
      "Epoch 308/400\n",
      "127/127 [==============================] - 2s 18ms/step - loss: 0.9101 - accuracy: 0.6328\n",
      "Epoch 309/400\n",
      "127/127 [==============================] - 2s 17ms/step - loss: 0.9098 - accuracy: 0.6327\n",
      "Epoch 310/400\n",
      "127/127 [==============================] - 2s 17ms/step - loss: 0.9105 - accuracy: 0.6328\n",
      "Epoch 311/400\n",
      "127/127 [==============================] - 2s 17ms/step - loss: 0.9099 - accuracy: 0.6325\n",
      "Epoch 312/400\n",
      "127/127 [==============================] - 2s 15ms/step - loss: 0.9106 - accuracy: 0.6336\n",
      "Epoch 313/400\n",
      "127/127 [==============================] - 2s 15ms/step - loss: 0.9108 - accuracy: 0.6332\n",
      "Epoch 314/400\n"
     ]
    },
    {
     "name": "stdout",
     "output_type": "stream",
     "text": [
      "127/127 [==============================] - 2s 15ms/step - loss: 0.9098 - accuracy: 0.6321\n",
      "Epoch 315/400\n",
      "127/127 [==============================] - 2s 15ms/step - loss: 0.9100 - accuracy: 0.6319 0s - loss: 0.9097 - accuracy: 0.\n",
      "Epoch 316/400\n",
      "127/127 [==============================] - 2s 18ms/step - loss: 0.9086 - accuracy: 0.6335 0s - loss: 0.9\n",
      "Epoch 317/400\n",
      "127/127 [==============================] - 2s 16ms/step - loss: 0.9104 - accuracy: 0.6331\n",
      "Epoch 318/400\n",
      "127/127 [==============================] - 2s 16ms/step - loss: 0.9107 - accuracy: 0.6326\n",
      "Epoch 319/400\n",
      "127/127 [==============================] - 2s 15ms/step - loss: 0.9097 - accuracy: 0.6324\n",
      "Epoch 320/400\n",
      "127/127 [==============================] - 2s 17ms/step - loss: 0.9098 - accuracy: 0.6320\n",
      "Epoch 321/400\n",
      "127/127 [==============================] - 2s 16ms/step - loss: 0.9085 - accuracy: 0.6328\n",
      "Epoch 322/400\n",
      "127/127 [==============================] - 2s 16ms/step - loss: 0.9089 - accuracy: 0.6328\n",
      "Epoch 323/400\n",
      "127/127 [==============================] - 2s 15ms/step - loss: 0.9086 - accuracy: 0.6340\n",
      "Epoch 324/400\n",
      "127/127 [==============================] - 2s 16ms/step - loss: 0.9111 - accuracy: 0.6330\n",
      "Epoch 325/400\n",
      "127/127 [==============================] - 2s 16ms/step - loss: 0.9099 - accuracy: 0.6335\n",
      "Epoch 326/400\n",
      "127/127 [==============================] - 2s 15ms/step - loss: 0.9111 - accuracy: 0.6329\n",
      "Epoch 327/400\n",
      "127/127 [==============================] - 2s 16ms/step - loss: 0.9086 - accuracy: 0.6335\n",
      "Epoch 328/400\n",
      "127/127 [==============================] - 2s 15ms/step - loss: 0.9099 - accuracy: 0.6330\n",
      "Epoch 329/400\n",
      "127/127 [==============================] - 2s 16ms/step - loss: 0.9101 - accuracy: 0.6328\n",
      "Epoch 330/400\n",
      "127/127 [==============================] - 2s 16ms/step - loss: 0.9097 - accuracy: 0.6327\n",
      "Epoch 331/400\n",
      "127/127 [==============================] - 2s 16ms/step - loss: 0.9087 - accuracy: 0.6323\n",
      "Epoch 332/400\n",
      "127/127 [==============================] - 2s 16ms/step - loss: 0.9096 - accuracy: 0.6337\n",
      "Epoch 333/400\n",
      "127/127 [==============================] - 2s 16ms/step - loss: 0.9094 - accuracy: 0.6320\n",
      "Epoch 334/400\n",
      "127/127 [==============================] - 2s 16ms/step - loss: 0.9094 - accuracy: 0.6330\n",
      "Epoch 335/400\n",
      "127/127 [==============================] - 2s 16ms/step - loss: 0.9086 - accuracy: 0.6330\n",
      "Epoch 336/400\n",
      "127/127 [==============================] - 2s 16ms/step - loss: 0.9090 - accuracy: 0.6329\n",
      "Epoch 337/400\n",
      "127/127 [==============================] - 2s 17ms/step - loss: 0.9095 - accuracy: 0.6343\n",
      "Epoch 338/400\n",
      "127/127 [==============================] - 2s 16ms/step - loss: 0.9087 - accuracy: 0.6335\n",
      "Epoch 339/400\n",
      "127/127 [==============================] - 2s 16ms/step - loss: 0.9088 - accuracy: 0.6328\n",
      "Epoch 340/400\n",
      "127/127 [==============================] - 2s 17ms/step - loss: 0.9091 - accuracy: 0.6346\n",
      "Epoch 341/400\n",
      "127/127 [==============================] - 2s 17ms/step - loss: 0.9093 - accuracy: 0.6323\n",
      "Epoch 342/400\n",
      "127/127 [==============================] - 2s 16ms/step - loss: 0.9077 - accuracy: 0.6330 0s - loss: 0.9078 - accura\n",
      "Epoch 343/400\n",
      "127/127 [==============================] - 2s 16ms/step - loss: 0.9094 - accuracy: 0.6340\n",
      "Epoch 344/400\n",
      "127/127 [==============================] - 2s 18ms/step - loss: 0.9082 - accuracy: 0.6331\n",
      "Epoch 345/400\n",
      "127/127 [==============================] - 2s 16ms/step - loss: 0.9076 - accuracy: 0.6340\n",
      "Epoch 346/400\n",
      "127/127 [==============================] - 2s 15ms/step - loss: 0.9100 - accuracy: 0.6328\n",
      "Epoch 347/400\n",
      "127/127 [==============================] - 2s 15ms/step - loss: 0.9099 - accuracy: 0.6341\n",
      "Epoch 348/400\n",
      "127/127 [==============================] - 2s 15ms/step - loss: 0.9083 - accuracy: 0.6328\n",
      "Epoch 349/400\n",
      "127/127 [==============================] - 2s 15ms/step - loss: 0.9077 - accuracy: 0.6333\n",
      "Epoch 350/400\n",
      "127/127 [==============================] - 2s 15ms/step - loss: 0.9076 - accuracy: 0.6336\n",
      "Epoch 351/400\n",
      "127/127 [==============================] - 2s 15ms/step - loss: 0.9087 - accuracy: 0.6329\n",
      "Epoch 352/400\n",
      "127/127 [==============================] - 2s 15ms/step - loss: 0.9085 - accuracy: 0.6339\n",
      "Epoch 353/400\n",
      "127/127 [==============================] - 2s 15ms/step - loss: 0.9089 - accuracy: 0.6333\n",
      "Epoch 354/400\n",
      "127/127 [==============================] - 2s 15ms/step - loss: 0.9081 - accuracy: 0.6340\n",
      "Epoch 355/400\n",
      "127/127 [==============================] - 2s 15ms/step - loss: 0.9080 - accuracy: 0.6329\n",
      "Epoch 356/400\n",
      "127/127 [==============================] - 2s 15ms/step - loss: 0.9087 - accuracy: 0.6345\n",
      "Epoch 357/400\n",
      "127/127 [==============================] - 2s 17ms/step - loss: 0.9081 - accuracy: 0.6334\n",
      "Epoch 358/400\n",
      "127/127 [==============================] - 2s 16ms/step - loss: 0.9089 - accuracy: 0.6329\n",
      "Epoch 359/400\n",
      "127/127 [==============================] - 2s 15ms/step - loss: 0.9079 - accuracy: 0.6329\n",
      "Epoch 360/400\n",
      "127/127 [==============================] - 2s 15ms/step - loss: 0.9076 - accuracy: 0.6335\n",
      "Epoch 361/400\n",
      "127/127 [==============================] - 2s 15ms/step - loss: 0.9078 - accuracy: 0.6331\n",
      "Epoch 362/400\n",
      "127/127 [==============================] - 2s 15ms/step - loss: 0.9080 - accuracy: 0.6332\n",
      "Epoch 363/400\n",
      "127/127 [==============================] - 2s 15ms/step - loss: 0.9091 - accuracy: 0.6327\n",
      "Epoch 364/400\n",
      "127/127 [==============================] - 2s 15ms/step - loss: 0.9081 - accuracy: 0.6341\n",
      "Epoch 365/400\n",
      "127/127 [==============================] - 2s 15ms/step - loss: 0.9084 - accuracy: 0.6340\n",
      "Epoch 366/400\n",
      "127/127 [==============================] - 2s 15ms/step - loss: 0.9073 - accuracy: 0.6347\n",
      "Epoch 367/400\n",
      "127/127 [==============================] - 2s 15ms/step - loss: 0.9081 - accuracy: 0.6339\n",
      "Epoch 368/400\n",
      "127/127 [==============================] - 2s 15ms/step - loss: 0.9078 - accuracy: 0.6342\n",
      "Epoch 369/400\n",
      "127/127 [==============================] - 2s 15ms/step - loss: 0.9088 - accuracy: 0.6333\n",
      "Epoch 370/400\n",
      "127/127 [==============================] - 2s 15ms/step - loss: 0.9085 - accuracy: 0.6339\n",
      "Epoch 371/400\n",
      "127/127 [==============================] - 2s 15ms/step - loss: 0.9096 - accuracy: 0.6328\n",
      "Epoch 372/400\n",
      "127/127 [==============================] - 2s 16ms/step - loss: 0.9074 - accuracy: 0.6339\n",
      "Epoch 373/400\n",
      "127/127 [==============================] - 2s 17ms/step - loss: 0.9077 - accuracy: 0.6345\n",
      "Epoch 374/400\n",
      "127/127 [==============================] - 2s 16ms/step - loss: 0.9081 - accuracy: 0.6335\n",
      "Epoch 375/400\n",
      "127/127 [==============================] - 2s 16ms/step - loss: 0.9073 - accuracy: 0.6331\n",
      "Epoch 376/400\n",
      "127/127 [==============================] - 2s 16ms/step - loss: 0.9079 - accuracy: 0.6338\n",
      "Epoch 377/400\n",
      "127/127 [==============================] - 2s 16ms/step - loss: 0.9075 - accuracy: 0.6350\n",
      "Epoch 378/400\n",
      "127/127 [==============================] - 2s 16ms/step - loss: 0.9072 - accuracy: 0.6336\n",
      "Epoch 379/400\n",
      "127/127 [==============================] - 2s 15ms/step - loss: 0.9087 - accuracy: 0.6333\n",
      "Epoch 380/400\n",
      "127/127 [==============================] - 2s 15ms/step - loss: 0.9084 - accuracy: 0.6344\n",
      "Epoch 381/400\n",
      "127/127 [==============================] - 2s 14ms/step - loss: 0.9084 - accuracy: 0.6342\n",
      "Epoch 382/400\n",
      "127/127 [==============================] - 2s 14ms/step - loss: 0.9078 - accuracy: 0.6334\n",
      "Epoch 383/400\n",
      "127/127 [==============================] - 2s 15ms/step - loss: 0.9079 - accuracy: 0.6332\n",
      "Epoch 384/400\n",
      "127/127 [==============================] - 2s 14ms/step - loss: 0.9071 - accuracy: 0.6353\n",
      "Epoch 385/400\n",
      "127/127 [==============================] - 2s 15ms/step - loss: 0.9077 - accuracy: 0.6340\n",
      "Epoch 386/400\n",
      "127/127 [==============================] - 2s 15ms/step - loss: 0.9071 - accuracy: 0.6337\n",
      "Epoch 387/400\n",
      "127/127 [==============================] - 2s 14ms/step - loss: 0.9071 - accuracy: 0.6340\n",
      "Epoch 388/400\n",
      "127/127 [==============================] - 2s 14ms/step - loss: 0.9070 - accuracy: 0.6323\n",
      "Epoch 389/400\n",
      "127/127 [==============================] - 2s 14ms/step - loss: 0.9076 - accuracy: 0.6342\n",
      "Epoch 390/400\n",
      "127/127 [==============================] - 2s 14ms/step - loss: 0.9069 - accuracy: 0.6329\n",
      "Epoch 391/400\n",
      "127/127 [==============================] - 2s 14ms/step - loss: 0.9062 - accuracy: 0.6337\n",
      "Epoch 392/400\n",
      "127/127 [==============================] - 2s 14ms/step - loss: 0.9070 - accuracy: 0.6348\n",
      "Epoch 393/400\n",
      "127/127 [==============================] - 2s 14ms/step - loss: 0.9079 - accuracy: 0.6339\n",
      "Epoch 394/400\n",
      "127/127 [==============================] - 2s 14ms/step - loss: 0.9064 - accuracy: 0.6345\n",
      "Epoch 395/400\n",
      "127/127 [==============================] - 2s 14ms/step - loss: 0.9070 - accuracy: 0.6347\n",
      "Epoch 396/400\n",
      "127/127 [==============================] - 2s 14ms/step - loss: 0.9068 - accuracy: 0.6333\n",
      "Epoch 397/400\n",
      "127/127 [==============================] - 2s 15ms/step - loss: 0.9078 - accuracy: 0.6339\n",
      "Epoch 398/400\n",
      "127/127 [==============================] - 2s 14ms/step - loss: 0.9073 - accuracy: 0.6338\n",
      "Epoch 399/400\n",
      "127/127 [==============================] - 2s 14ms/step - loss: 0.9078 - accuracy: 0.6343\n",
      "Epoch 400/400\n",
      "127/127 [==============================] - 2s 14ms/step - loss: 0.9078 - accuracy: 0.6329\n"
     ]
    }
   ],
   "source": [
    "history = model.fit(\n",
    "    X_train, y_train, \n",
    "    batch_size=1000, \n",
    "    epochs=400\n",
    "    )"
   ]
  },
  {
   "cell_type": "code",
   "execution_count": null,
   "metadata": {
    "id": "e7l_ma6Jgf77"
   },
   "outputs": [],
   "source": [
    "model.save_weights('./checkpoints/checkpoint')"
   ]
  },
  {
   "cell_type": "code",
   "execution_count": null,
   "metadata": {
    "id": "nSAI9JKU89Tf",
    "outputId": "262bfed5-1320-46d8-973c-d487edeebd7d"
   },
   "outputs": [
    {
     "data": {
      "image/png": "[encoded data removed]",
      "text/plain": [
       "<Figure size 432x288 with 1 Axes>"
      ]
     },
     "metadata": {
      "needs_background": "light"
     },
     "output_type": "display_data"
    }
   ],
   "source": [
    "import matplotlib.pyplot as plt\n",
    "plt.plot(history.history['accuracy'])\n",
    "plt.xlabel('epochs')\n",
    "plt.ylabel('accuracy')\n",
    "plt.savefig('accuracy.png')"
   ]
  },
  {
   "cell_type": "markdown",
   "metadata": {
    "id": "7E7LQ1a4fZ9g"
   },
   "source": [
    "## テストデータの予測\n",
    "テストデータを予測し、予測結果と正解を比較した"
   ]
  },
  {
   "cell_type": "code",
   "execution_count": null,
   "metadata": {
    "id": "5pclO2wrfZ9g",
    "outputId": "ee1af29e-15d6-4b36-f42e-fd151c4a1370"
   },
   "outputs": [
    {
     "name": "stdout",
     "output_type": "stream",
     "text": [
      "1701/1701 [==============================] - 1s 820us/step - loss: 0.9194 - accuracy: 0.6232\n"
     ]
    },
    {
     "data": {
      "text/plain": [
       "[0.9193919897079468, 0.623157262802124]"
      ]
     },
     "execution_count": 67,
     "metadata": {},
     "output_type": "execute_result"
    }
   ],
   "source": [
    "pred=model.predict(X_test)\n",
    "model.evaluate(X_test,y_test)"
   ]
  },
  {
   "cell_type": "code",
   "execution_count": null,
   "metadata": {
    "id": "JJabH56afZ9g",
    "outputId": "358bed93-3b55-43a2-e5b8-de731a03a120"
   },
   "outputs": [
    {
     "data": {
      "text/html": [
       "<div>\n",
       "<style scoped>\n",
       "    .dataframe tbody tr th:only-of-type {\n",
       "        vertical-align: middle;\n",
       "    }\n",
       "\n",
       "    .dataframe tbody tr th {\n",
       "        vertical-align: top;\n",
       "    }\n",
       "\n",
       "    .dataframe thead th {\n",
       "        text-align: right;\n",
       "    }\n",
       "</style>\n",
       "<table border=\"1\" class=\"dataframe\">\n",
       "  <thead>\n",
       "    <tr style=\"text-align: right;\">\n",
       "      <th></th>\n",
       "      <th>genre</th>\n",
       "    </tr>\n",
       "  </thead>\n",
       "  <tbody>\n",
       "    <tr>\n",
       "      <th>7337</th>\n",
       "      <td>1</td>\n",
       "    </tr>\n",
       "    <tr>\n",
       "      <th>212820</th>\n",
       "      <td>1</td>\n",
       "    </tr>\n",
       "    <tr>\n",
       "      <th>112325</th>\n",
       "      <td>3</td>\n",
       "    </tr>\n",
       "    <tr>\n",
       "      <th>63036</th>\n",
       "      <td>1</td>\n",
       "    </tr>\n",
       "    <tr>\n",
       "      <th>209486</th>\n",
       "      <td>1</td>\n",
       "    </tr>\n",
       "    <tr>\n",
       "      <th>67754</th>\n",
       "      <td>3</td>\n",
       "    </tr>\n",
       "    <tr>\n",
       "      <th>149774</th>\n",
       "      <td>3</td>\n",
       "    </tr>\n",
       "    <tr>\n",
       "      <th>53722</th>\n",
       "      <td>4</td>\n",
       "    </tr>\n",
       "    <tr>\n",
       "      <th>56576</th>\n",
       "      <td>3</td>\n",
       "    </tr>\n",
       "    <tr>\n",
       "      <th>10178</th>\n",
       "      <td>4</td>\n",
       "    </tr>\n",
       "  </tbody>\n",
       "</table>\n",
       "</div>"
      ],
      "text/plain": [
       "        genre\n",
       "7337        1\n",
       "212820      1\n",
       "112325      3\n",
       "63036       1\n",
       "209486      1\n",
       "67754       3\n",
       "149774      3\n",
       "53722       4\n",
       "56576       3\n",
       "10178       4"
      ]
     },
     "execution_count": 71,
     "metadata": {},
     "output_type": "execute_result"
    }
   ],
   "source": [
    "y_test[:10]"
   ]
  },
  {
   "cell_type": "code",
   "execution_count": null,
   "metadata": {
    "id": "rKS-MIs6fZ9g",
    "outputId": "ce2e0788-69d0-42a0-afbb-d94c7195d314"
   },
   "outputs": [
    {
     "data": {
      "text/plain": [
       "[<matplotlib.lines.Line2D at 0x14fb1b8c8b0>]"
      ]
     },
     "execution_count": 72,
     "metadata": {},
     "output_type": "execute_result"
    },
    {
     "data": {
      "image/png": "[encoded data removed]",
      "text/plain": [
       "<Figure size 432x288 with 1 Axes>"
      ]
     },
     "metadata": {
      "needs_background": "light"
     },
     "output_type": "display_data"
    }
   ],
   "source": [
    "plt.plot(pred[1])"
   ]
  },
  {
   "cell_type": "markdown",
   "metadata": {
    "id": "uu0G9n9OfZ9h"
   },
   "source": [
    "このように、予測に失敗していても、次に正解の確率が高いジャンルが予測結果となっていることがわかる。"
   ]
  },
  {
   "cell_type": "markdown",
   "metadata": {
    "id": "rjITnw5MfZ9h"
   },
   "source": [
    "# 検証"
   ]
  },
  {
   "cell_type": "code",
   "execution_count": 35,
   "metadata": {
    "colab": {
     "base_uri": "https://localhost:8080/",
     "height": 174
    },
    "executionInfo": {
     "elapsed": 7,
     "status": "error",
     "timestamp": 1661480025181,
     "user": {
      "displayName": "山下穂乃花",
      "userId": "10272557550954922568"
     },
     "user_tz": -540
    },
    "id": "B6ZxfNNpfZ9h",
    "outputId": "3eab82cc-766e-48f2-ecb7-1f97eb18b41d"
   },
   "outputs": [
    {
     "data": {
      "text/plain": [
       "<tensorflow.python.training.tracking.util.CheckpointLoadStatus at 0x2eea820ed90>"
      ]
     },
     "execution_count": 35,
     "metadata": {},
     "output_type": "execute_result"
    }
   ],
   "source": [
    "model.load_weights('./checkpoints/checkpoint')"
   ]
  },
  {
   "cell_type": "markdown",
   "metadata": {
    "id": "_3DX6SCufZ9h"
   },
   "source": [
    "## 項目の入力"
   ]
  },
  {
   "cell_type": "code",
   "execution_count": 40,
   "metadata": {
    "colab": {
     "base_uri": "https://localhost:8080/"
    },
    "executionInfo": {
     "elapsed": 35515,
     "status": "ok",
     "timestamp": 1661474466834,
     "user": {
      "displayName": "山下穂乃花",
      "userId": "10272557550954922568"
     },
     "user_tz": -540
    },
    "id": "0_ENDa0wfZ9i",
    "outputId": "78bb2f47-a553-4685-ba42-d3af9d3c7ac5"
   },
   "outputs": [
    {
     "name": "stdout",
     "output_type": "stream",
     "text": [
      "popularity(曲の人気度)[-2.6～3.4]:-2.6\n",
      "danceability(踊りやすさ)[0～1]:0\n",
      "energy(エネルギッシュさ)[0～1]:1\n",
      "acousticness(踊りやすさ)[0～1]:1\n",
      "instrumentalness(インスト感(歌声の割合)[-0.4～3.3]:3.3\n",
      "speechiness(言葉がどれくらい入っているか)[0～1]:0\n",
      "loudness(音量・音圧)[0～1]:0\n"
     ]
    }
   ],
   "source": [
    "popularity=input('popularity(曲の人気度)[-2.6～3.4]:')\n",
    "danceability=input('danceability(踊りやすさ)[0～1]:')\n",
    "energy=input('energy(エネルギッシュさ)[0～1]:')\n",
    "acousticness=input('acousticness(踊りやすさ)[0～1]:')\n",
    "instrumentalness=input('instrumentalness(インスト感(歌声の割合)[-0.4～3.3]:')\n",
    "speechiness=input('speechiness(言葉がどれくらい入っているか)[0～1]:')\n",
    "loudness=input('loudness(音量・音圧)[0～1]:')"
   ]
  },
  {
   "cell_type": "code",
   "execution_count": 41,
   "metadata": {
    "colab": {
     "base_uri": "https://localhost:8080/"
    },
    "executionInfo": {
     "elapsed": 1047,
     "status": "ok",
     "timestamp": 1661474470675,
     "user": {
      "displayName": "山下穂乃花",
      "userId": "10272557550954922568"
     },
     "user_tz": -540
    },
    "id": "Ec6GiRixfZ9i",
    "outputId": "d8b10443-c8fe-4959-e76d-f7e86f143655"
   },
   "outputs": [
    {
     "name": "stderr",
     "output_type": "stream",
     "text": [
      "C:\\Users\\admin\\AppData\\Local\\Temp\\ipykernel_7956\\2509607945.py:2: SettingWithCopyWarning: \n",
      "A value is trying to be set on a copy of a slice from a DataFrame.\n",
      "Try using .loc[row_indexer,col_indexer] = value instead\n",
      "\n",
      "See the caveats in the documentation: https://pandas.pydata.org/pandas-docs/stable/user_guide/indexing.html#returning-a-view-versus-a-copy\n",
      "  test['popularity']=popularity\n",
      "C:\\Users\\admin\\AppData\\Local\\Temp\\ipykernel_7956\\2509607945.py:3: SettingWithCopyWarning: \n",
      "A value is trying to be set on a copy of a slice from a DataFrame.\n",
      "Try using .loc[row_indexer,col_indexer] = value instead\n",
      "\n",
      "See the caveats in the documentation: https://pandas.pydata.org/pandas-docs/stable/user_guide/indexing.html#returning-a-view-versus-a-copy\n",
      "  test['danceability']=danceability\n",
      "C:\\Users\\admin\\AppData\\Local\\Temp\\ipykernel_7956\\2509607945.py:4: SettingWithCopyWarning: \n",
      "A value is trying to be set on a copy of a slice from a DataFrame.\n",
      "Try using .loc[row_indexer,col_indexer] = value instead\n",
      "\n",
      "See the caveats in the documentation: https://pandas.pydata.org/pandas-docs/stable/user_guide/indexing.html#returning-a-view-versus-a-copy\n",
      "  test['energy']=energy\n",
      "C:\\Users\\admin\\AppData\\Local\\Temp\\ipykernel_7956\\2509607945.py:5: SettingWithCopyWarning: \n",
      "A value is trying to be set on a copy of a slice from a DataFrame.\n",
      "Try using .loc[row_indexer,col_indexer] = value instead\n",
      "\n",
      "See the caveats in the documentation: https://pandas.pydata.org/pandas-docs/stable/user_guide/indexing.html#returning-a-view-versus-a-copy\n",
      "  test['acousticness']=acousticness\n",
      "C:\\Users\\admin\\AppData\\Local\\Temp\\ipykernel_7956\\2509607945.py:6: SettingWithCopyWarning: \n",
      "A value is trying to be set on a copy of a slice from a DataFrame.\n",
      "Try using .loc[row_indexer,col_indexer] = value instead\n",
      "\n",
      "See the caveats in the documentation: https://pandas.pydata.org/pandas-docs/stable/user_guide/indexing.html#returning-a-view-versus-a-copy\n",
      "  test['instrumentalness']=instrumentalness\n",
      "C:\\Users\\admin\\AppData\\Local\\Temp\\ipykernel_7956\\2509607945.py:7: SettingWithCopyWarning: \n",
      "A value is trying to be set on a copy of a slice from a DataFrame.\n",
      "Try using .loc[row_indexer,col_indexer] = value instead\n",
      "\n",
      "See the caveats in the documentation: https://pandas.pydata.org/pandas-docs/stable/user_guide/indexing.html#returning-a-view-versus-a-copy\n",
      "  test['speechiness']=speechiness\n",
      "C:\\Users\\admin\\AppData\\Local\\Temp\\ipykernel_7956\\2509607945.py:8: SettingWithCopyWarning: \n",
      "A value is trying to be set on a copy of a slice from a DataFrame.\n",
      "Try using .loc[row_indexer,col_indexer] = value instead\n",
      "\n",
      "See the caveats in the documentation: https://pandas.pydata.org/pandas-docs/stable/user_guide/indexing.html#returning-a-view-versus-a-copy\n",
      "  test['loudness']=loudness\n"
     ]
    }
   ],
   "source": [
    "test=X[0:1]\n",
    "test['popularity']=popularity\n",
    "test['danceability']=danceability\n",
    "test['energy']=energy\n",
    "test['acousticness']=acousticness\n",
    "test['instrumentalness']=instrumentalness\n",
    "test['speechiness']=speechiness\n",
    "test['loudness']=loudness"
   ]
  },
  {
   "cell_type": "code",
   "execution_count": 42,
   "metadata": {
    "executionInfo": {
     "elapsed": 4,
     "status": "ok",
     "timestamp": 1661474474069,
     "user": {
      "displayName": "山下穂乃花",
      "userId": "10272557550954922568"
     },
     "user_tz": -540
    },
    "id": "4HU5g6fjfZ9i"
   },
   "outputs": [],
   "source": [
    "pred=model.predict(test.astype(\"float\"))"
   ]
  },
  {
   "cell_type": "markdown",
   "metadata": {
    "id": "ic-wa84hfZ9i"
   },
   "source": [
    "## アーティストの出力"
   ]
  },
  {
   "cell_type": "code",
   "execution_count": 43,
   "metadata": {
    "colab": {
     "base_uri": "https://localhost:8080/"
    },
    "executionInfo": {
     "elapsed": 1014,
     "status": "ok",
     "timestamp": 1661474487227,
     "user": {
      "displayName": "山下穂乃花",
      "userId": "10272557550954922568"
     },
     "user_tz": -540
    },
    "id": "7eaLyGX0fZ9j",
    "outputId": "169ba568-db6b-4a80-ddf0-a25fc1ad28cf"
   },
   "outputs": [
    {
     "name": "stdout",
     "output_type": "stream",
     "text": [
      "genre=Classical: artists=['Olivier Messiaen', 'Howard Shore', 'Giacomo Puccini']\n"
     ]
    }
   ],
   "source": [
    "import random\n",
    "def choise_artist(genre, n=3):\n",
    "    df = pd.read_csv('genre_artist.csv')\n",
    "    target_data = df[df['genre'] == genre]\n",
    "    artists = target_data['artist_name'].values.tolist()\n",
    "    artist_names = random.sample(artists, 3)\n",
    "    return artist_names\n",
    "\n",
    "def example():\n",
    "    genre=genre_array[np.argmax(pred)]\n",
    "    print(f'genre={genre}: artists={choise_artist(genre)}')\n",
    "    \n",
    "example()"
   ]
  },
  {
   "cell_type": "code",
   "execution_count": null,
   "metadata": {
    "id": "3mkuE1yNfZ9k"
   },
   "outputs": [],
   "source": []
  }
 ],
 "metadata": {
  "accelerator": "GPU",
  "colab": {
   "collapsed_sections": [],
   "name": "ジャンル分けの結果.ipynb",
   "provenance": []
  },
  "gpuClass": "standard",
  "kernelspec": {
   "display_name": "Python 3 (ipykernel)",
   "language": "python",
   "name": "python3"
  },
  "language_info": {
   "codemirror_mode": {
    "name": "ipython",
    "version": 3
   },
   "file_extension": ".py",
   "mimetype": "text/x-python",
   "name": "python",
   "nbconvert_exporter": "python",
   "pygments_lexer": "ipython3",
   "version": "3.8.0"
  }
 },
 "nbformat": 4,
 "nbformat_minor": 1
}
